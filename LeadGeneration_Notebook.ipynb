{
  "cells": [
    {
      "cell_type": "code",
      "execution_count": 1,
      "id": "dd6b5236-7828-472f-9dc6-d769989b2cea",
      "metadata": {
        "trusted": true
      },
      "outputs": [
        {
          "name": "stdout",
          "output_type": "stream",
          "text": [
            "0.130.0\n"
          ]
        }
      ],
      "source": [
        "import crewai\n",
        "print(crewai.__version__)"
      ]
    },
    {
      "cell_type": "code",
      "execution_count": 2,
      "id": "cebd09c7",
      "metadata": {
        "trusted": true
      },
      "outputs": [],
      "source": [
        "import os\n",
        "from crewai import Agent, Crew, Process, Task ,LLM\n",
        "import requests"
      ]
    },
    {
      "cell_type": "code",
      "execution_count": 12,
      "id": "48581b3e",
      "metadata": {},
      "outputs": [],
      "source": [
        "from crewai_tools import SerperDevTool ,ScrapeWebsiteTool, SnowflakeSearchTool, SnowflakeConfig"
      ]
    },
    {
      "cell_type": "code",
      "execution_count": 13,
      "id": "f1609e29",
      "metadata": {},
      "outputs": [],
      "source": [
        "from datetime import date\n",
        "from pydantic import BaseModel, Field\n",
        "from pydantic import BaseModel, HttpUrl, Field\n",
        "from datetime import date\n",
        "from typing import List, Literal, Union\n",
        "from decimal import Decimal\n"
      ]
    },
    {
      "cell_type": "code",
      "execution_count": 14,
      "id": "abd4d529",
      "metadata": {},
      "outputs": [],
      "source": [
        "query = \"SELECT DISTINCT SHIP_MANAGER \\\n",
        "    FROM CURATED_DB.ADDRESSABLE_MARKET.IHS_HISTORICAL_DATA_SHIP_MANAGER_TIMELINE \\\n",
        "    WHERE SHIP_MANAGER IS NOT NULL \\\n",
        "    ORDER BY SHIP_MANAGER\"\n",
        "# Create Snowflake configuration\n",
        "config = SnowflakeConfig(\n",
        "    account=\"SYNERGYGRP-DWH_DEV\",\n",
        "    user=\"SYNERGYGRP-DWH_DEV\",\n",
        "    password=\"Synergy@123\",\n",
        "    warehouse=\"COMPUTE_WH\",\n",
        "    database=\"CURATED_DB\",\n",
        "    snowflake_schema=\"ADDRESSABLE_MARKET\",\n",
        "\tquery=query\n",
        ")\n",
        "\n",
        "# Initialize the tool\n",
        "snowflake_tool = SnowflakeSearchTool(config=config)\n"
      ]
    },
    {
      "cell_type": "code",
      "execution_count": 15,
      "id": "b00a7a89",
      "metadata": {},
      "outputs": [],
      "source": [
        "model='azure/gpt-4.1'\n",
        "AZURE_API_KEY='C0AobTHxvT16LiGF5WN9x3nBgFcQK3B8NtcTVJLKyGMDlyZfzF0FJQQJ99BDACHYHv6XJ3w3AAAAACOGVWPp'\n",
        "AZURE_API_BASE='https://azai-useast2-synergy.cognitiveservices.azure.com/'\n",
        "AZURE_API_VERSION='2024-12-01-preview'\n",
        "SERPER_API_KEY='d0540e84ba2200f8e2eb88bc81d3b3f489b523ff'"
      ]
    },
    {
      "cell_type": "code",
      "execution_count": 16,
      "id": "18679d52",
      "metadata": {},
      "outputs": [],
      "source": [
        "os.environ[\"AZURE_API_KEY\"] = AZURE_API_KEY\n",
        "os.environ[\"AZURE_API_BASE\"] = AZURE_API_BASE\n",
        "os.environ[\"AZURE_API_VERSION\"] = AZURE_API_VERSION\n",
        "os.environ[\"model\"] = model"
      ]
    },
    {
      "cell_type": "code",
      "execution_count": 17,
      "id": "5a6ad1e5",
      "metadata": {},
      "outputs": [],
      "source": [
        "serper_api_key='d0540e84ba2200f8e2eb88bc81d3b3f489b523ff'\n",
        "if not os.environ.get(\"SERPER_API_KEY\"):\n",
        "    os.environ[\"SERPER_API_KEY\"] = serper_api_key"
      ]
    },
    {
      "cell_type": "code",
      "execution_count": null,
      "id": "b88c6fb2",
      "metadata": {},
      "outputs": [],
      "source": [
        "lead_researcher = Agent(\n",
        "    role=\"Lead Researcher\",\n",
        "    goal=\"Identify top ship owners in the specified {ship_class} and {region} who could benefit from Synergy Marine Group’s Crew & Technical Management services.Ships should have new builds\",\n",
        "    tools=[SerperDevTool(),ScrapeWebsiteTool(website_url=\"https://www.synergymarinegroup.com/services/offshore-ship-management-services/\")],\n",
        "    backstory=\"You work for Synergy Maritime - the second largest ship manager in the world - we have recently got into managing new segments of vessels through our EDT Joint Venture / Partnership Specializes in maritime industry research, focusing on specific market segments and geographical areas. Please use the tools [ScrapeWebsiteTool] available to you to get relevant working context.\",\n",
        "    verbose=True,\n",
        "    allow_delegation=False,\n",
        "    llm = 'azure/gpt-4.1',\n",
        ")"
      ]
    },
    {
      "cell_type": "code",
      "execution_count": 18,
      "id": "fb04a18d",
      "metadata": {},
      "outputs": [],
      "source": [
        "review_agent = Agent(\n",
        "    role=\"Review Specialist\",\n",
        "    goal=\"Ensure the list of identified leads is relevant and aligned with Synergy’s business model.\",\n",
        "    tools=[SerperDevTool(),snowflake_tool],\n",
        "    backstory=\"You work for Synergy Maritime - we have recently got into managing new segments of vessels through our EDT Joint Venture / Partnership Responsible for maintaining the integrity of lead generation by filtering out existing partners and competitors.\",\n",
        "    verbose=True,\n",
        "    allow_delegation=False,\n",
        "    llm = 'azure/gpt-4.1',\n",
        ")"
      ]
    },
    {
      "cell_type": "code",
      "execution_count": 19,
      "id": "0a22851c",
      "metadata": {},
      "outputs": [],
      "source": [
        "strategy_developer = Agent(\n",
        "    role=\"Strategy Developer\",\n",
        "    goal=\"Develop a personalized engagement strategy for each shortlisted ship owner, focusing on Crew & Technical Management.\",\n",
        "    tools=[SerperDevTool(),ScrapeWebsiteTool(website_url=\"https://www.synergymarinegroup.com/edt-synergy-marine-group-form-joint-venture/\"),\n",
        "\t\t  \t\t\tScrapeWebsiteTool(website_url=\"https://www.edtoffshore.com/solutions-services/ship-management-operations\")],\n",
        "    backstory=\"You work for Synergy Maritime - the second largest ship manager in the world - we have recently got into managing new segments of vessels through our EDT Joint Venture / Partnership Crafts strategic sales plans based on comprehensive market research,Focusing on creating effective entry points for new business engagements.\",\n",
        "    verbose=True,\n",
        "    allow_delegation=False,\n",
        "    llm = 'azure/gpt-4.1',\n",
        ")"
      ]
    },
    {
      "cell_type": "code",
      "execution_count": 20,
      "id": "e5dfc9b2",
      "metadata": {},
      "outputs": [],
      "source": [
        "process_manager = Agent(\n",
        "    role=\"Process Manager\",\n",
        "    goal=\"Oversee the entire lead generation and strategy execution process, ensuring it aligns with Synergy Marine Group’s objectives.\",\n",
        "    tools=[SerperDevTool()],\n",
        "    backstory=\"Coordinates and manages complex projects, ensuring that all components of the lead generation process are executed efficiently and in line with company objectives.\",\n",
        "    verbose=True,\n",
        "    allow_delegation=False,\n",
        "    llm = 'azure/gpt-4.1',\n",
        ")"
      ]
    },
    {
      "cell_type": "code",
      "execution_count": 21,
      "id": "47cbe26e",
      "metadata": {},
      "outputs": [],
      "source": [
        "\n",
        "\n",
        "initial_research = Task(\n",
        "    description=\"Conduct searches to identify relevant ship owners and operators based \\\n",
        "    on {ship_class} and {region}. Utilize WebsiteSearchTool and SerperDevTool for \\\n",
        "    comprehensive market analysis.Prioritize companies that are expanding, seeking professional ship management, or may require new technical or crew management solutions.Focus on ship owners with large fleets, new builds, or those looking to optimize operational efficiency.Gather essential company details (fleet size, operational focus, key decision-makers, and management structure).\",\n",
        "    expected_output=\"A list of potential ship owners, operators, and managers in the specified class and region. \\\n",
        "                  PLease review and rerun the task till you have 20-25 promising leads\",\n",
        "    agent=lead_researcher,\n",
        "    async_execution=False,\n",
        "    llm='azure/gpt-4.1',\n",
        ")\n"
      ]
    },
    {
      "cell_type": "code",
      "execution_count": 23,
      "id": "d7efb40d",
      "metadata": {},
      "outputs": [],
      "source": [
        "\n",
        "lead_review = Task(\n",
        "    description=\"Cross-check the extracted leads against the output list generated by the snowflake_tool to remove existing clients, and non-relevant prospects.Verify the regional presence and headquarters location of each company to confirm they align with {region}.Filter out companies that already have strong in-house ship management unless there’s potential for outsourcing.Validate data accuracy and remove redundant or low-potential leads. \\\n",
        "                  Please review and rerun the task till you have 20-25 promising leads\",\n",
        "    expected_output=\"A curated list of leads, excluding current partners focussed on EDT and similar partners \\\n",
        "                  PLease review and rerun the task till you have 20-25 promising leads\",\n",
        "    agent=lead_researcher,\n",
        "    async_execution=False,\n",
        "    llm='azure/gpt-4-1106-preview',\n",
        "    context=[initial_research],\n",
        "    tools=[SerperDevTool()],\n",
        ")"
      ]
    },
    {
      "cell_type": "code",
      "execution_count": 24,
      "id": "0e95f54e",
      "metadata": {},
      "outputs": [],
      "source": [
        "strategy_formulation = Task(\n",
        "    description=\"Determine alignment of the leads with Synergy’s goals and objectives. Create strategy by targeting the potential challenges the curated leads face (e.g., crew shortages, regulatory compliance, maintenance costs, etc.. ) and how Synergy’s services can help tackle them. Refine the strategy further by tailoring the pitch for different types of ship owners (independent, corporate, fleet operators, or newcomers). Define in-depth approach strategy by crafting a compelling pitch highlighting Synergy Marine Group’s strengths in crew management, technical expertise, cost efficiency, and compliance and  outline the best channels for engagement (cold outreach, industry events, partnerships, or referrals).\",\n",
        "    expected_output=\"A JSON object with the following fields Lead Name, Headquarters, Websites, Types of Vessels [with Number], Alignment, Strategy.The Strategy must be a JSON object with Pitch and Channels as fields. \\\n",
        "        Please review and rerun the task till you have 20-25 promising leads.\",\n",
        "    agent=strategy_developer,\n",
        "    async_execution=False,\n",
        "    llm= 'azure/gpt-4.1'\n",
        ")"
      ]
    },
    {
      "cell_type": "code",
      "execution_count": null,
      "id": "d5f0bdf3",
      "metadata": {},
      "outputs": [],
      "source": [
        "strategy_formulation = Task(\n",
        "    description=\"Craft a compelling pitch highlighting Synergy Marine Group's strengths in crew management, technical expertise, cost efficiency, and compliance. Tailor the approach for different types of ship owners (independent, corporate, fleet operators, or newcomers). Identify potential challenges they face (e.g., crew shortages, regulatory compliance, maintenance costs, etc.) and align solutions with Synergy's services. Outline the best channels for engagement (cold outreach, industry events, partnerships, or referrals).\",\n",
        "    expected_output=\"\"\"{\n",
        "        \"strategy_report\": {\n",
        "            \"status\": \"success\",\n",
        "            \"leads\": [...],\n",
        "            \"performance_metrics\": {...},\n",
        "            \"metadata\": {...}\n",
        "        }\n",
        "    }\"\"\",  # optional, can be retained for documentation\n",
        "    agent=strategy_developer,\n",
        "    async_execution=False,\n",
        "    llm='azure/gpt-4.1',\n",
        "    output_json=StrategyOutput,\n",
        "    tools=[\n",
        "        SerperDevTool(),\n",
        "        ScrapeWebsiteTool(website_url=\"https://www.synergymarinegroup.com/edt-synergy-marine-group-form-joint-venture/\"),\n",
        "        ScrapeWebsiteTool(website_url=\"https://www.edtoffshore.com/solutions-services/ship-management-operations\")\n",
        "    ]\n",
        ")\n"
      ]
    },
    {
      "cell_type": "code",
      "execution_count": 25,
      "id": "226f4df8",
      "metadata": {},
      "outputs": [],
      "source": [
        "class strategy(BaseModel):\n",
        "\t\"\"\"Strategy model to store the strategy information\"\"\"\n",
        "\tpitch: str\n",
        "\tchannels: str\n",
        "\n",
        "class lead_data(BaseModel):\n",
        "\t\"\"\"Leads model to store the leads information\"\"\"\n",
        "\tlead_name: str\n",
        "\theadquarters: str\n",
        "\twebsite: str\n",
        "\ttypes_of_vessels: str\n",
        "\talignment: str\n",
        "\tstrategy: strategy\n",
        "\n",
        "class lead(BaseModel):\n",
        "\t\"\"\"Lead model to store the lead information\"\"\"\n",
        "\tleads: List[lead_data] = Field(default_factory=list)\n",
        "\n",
        "\n",
        "process_oversight = Task(\n",
        "    description=\"Review and validate the final list of 10-15 high-potential leads before approval.Ensure all shortlisted leads align with Synergy’s growth strategy, ship management capabilities and core services(Crew & Technical Management).Iterate and refine the lead list and strategy until the most promising leads are identified. Please include headquarters region of the suggested lead and and have new builds, if its not in Northern Europe requested by user return back to lead_researcher to suggest an alternate.Ensure there are no duplicates within the leads data.Please include strategy for each lead and how it fits with synergys' goal.Ensure that the leads strategy is created from Synergy’s strategic business goals.Make your search extensive and order the leads in terms of appeal to synergy.\",\n",
        "    expected_output=\"A final list of 10-15 high-potential leads with each lead's json object.\",\n",
        "    agent=process_manager,\n",
        "    async_execution=False,\n",
        "    llm='azure/gpt-4.1',\n",
        "    context=[lead_review, initial_research, strategy_formulation],\n",
        "    output_json=lead\n",
        ")\n"
      ]
    },
    {
      "cell_type": "code",
      "execution_count": null,
      "id": "6e25347b",
      "metadata": {
        "vscode": {
          "languageId": "ruby"
        }
      },
      "outputs": [
        {
          "data": {
            "text/html": [
              "<pre style=\"white-space:pre;overflow-x:auto;line-height:normal;font-family:Menlo,'DejaVu Sans Mono',consolas,'Courier New',monospace\"><span style=\"color: #008080; text-decoration-color: #008080\">╭──────────────────────────────────────────── Crew Execution Started ─────────────────────────────────────────────╮</span>\n",
              "<span style=\"color: #008080; text-decoration-color: #008080\">│</span>                                                                                                                 <span style=\"color: #008080; text-decoration-color: #008080\">│</span>\n",
              "<span style=\"color: #008080; text-decoration-color: #008080\">│</span>  <span style=\"color: #008080; text-decoration-color: #008080; font-weight: bold\">Crew Execution Started</span>                                                                                         <span style=\"color: #008080; text-decoration-color: #008080\">│</span>\n",
              "<span style=\"color: #008080; text-decoration-color: #008080\">│</span>  <span style=\"color: #c0c0c0; text-decoration-color: #c0c0c0\">Name: </span><span style=\"color: #008080; text-decoration-color: #008080\">crew</span>                                                                                                     <span style=\"color: #008080; text-decoration-color: #008080\">│</span>\n",
              "<span style=\"color: #008080; text-decoration-color: #008080\">│</span>  <span style=\"color: #c0c0c0; text-decoration-color: #c0c0c0\">ID: </span><span style=\"color: #008080; text-decoration-color: #008080\">73d5605a-06fb-4170-a401-343fd93c9807</span>                                                                       <span style=\"color: #008080; text-decoration-color: #008080\">│</span>\n",
              "<span style=\"color: #008080; text-decoration-color: #008080\">│</span>                                                                                                                 <span style=\"color: #008080; text-decoration-color: #008080\">│</span>\n",
              "<span style=\"color: #008080; text-decoration-color: #008080\">│</span>                                                                                                                 <span style=\"color: #008080; text-decoration-color: #008080\">│</span>\n",
              "<span style=\"color: #008080; text-decoration-color: #008080\">╰─────────────────────────────────────────────────────────────────────────────────────────────────────────────────╯</span>\n",
              "</pre>\n"
            ],
            "text/plain": [
              "\u001b[36m╭─\u001b[0m\u001b[36m───────────────────────────────────────────\u001b[0m\u001b[36m Crew Execution Started \u001b[0m\u001b[36m────────────────────────────────────────────\u001b[0m\u001b[36m─╮\u001b[0m\n",
              "\u001b[36m│\u001b[0m                                                                                                                 \u001b[36m│\u001b[0m\n",
              "\u001b[36m│\u001b[0m  \u001b[1;36mCrew Execution Started\u001b[0m                                                                                         \u001b[36m│\u001b[0m\n",
              "\u001b[36m│\u001b[0m  \u001b[37mName: \u001b[0m\u001b[36mcrew\u001b[0m                                                                                                     \u001b[36m│\u001b[0m\n",
              "\u001b[36m│\u001b[0m  \u001b[37mID: \u001b[0m\u001b[36m73d5605a-06fb-4170-a401-343fd93c9807\u001b[0m                                                                       \u001b[36m│\u001b[0m\n",
              "\u001b[36m│\u001b[0m                                                                                                                 \u001b[36m│\u001b[0m\n",
              "\u001b[36m│\u001b[0m                                                                                                                 \u001b[36m│\u001b[0m\n",
              "\u001b[36m╰─────────────────────────────────────────────────────────────────────────────────────────────────────────────────╯\u001b[0m\n"
            ]
          },
          "metadata": {},
          "output_type": "display_data"
        },
        {
          "data": {
            "text/html": [
              "<pre style=\"white-space:pre;overflow-x:auto;line-height:normal;font-family:Menlo,'DejaVu Sans Mono',consolas,'Courier New',monospace\">\n",
              "</pre>\n"
            ],
            "text/plain": [
              "\n"
            ]
          },
          "metadata": {},
          "output_type": "display_data"
        },
        {
          "data": {
            "text/html": [
              "<pre style=\"white-space:pre;overflow-x:auto;line-height:normal;font-family:Menlo,'DejaVu Sans Mono',consolas,'Courier New',monospace\"><span style=\"color: #ff00ff; text-decoration-color: #ff00ff; font-weight: bold\"># Agent:</span> <span style=\"color: #00ff00; text-decoration-color: #00ff00; font-weight: bold\">Lead Researcher</span>\n",
              "</pre>\n"
            ],
            "text/plain": [
              "\u001b[1;95m# Agent:\u001b[0m \u001b[1;92mLead Researcher\u001b[0m\n"
            ]
          },
          "metadata": {},
          "output_type": "display_data"
        },
        {
          "data": {
            "text/html": [
              "<pre style=\"white-space:pre;overflow-x:auto;line-height:normal;font-family:Menlo,'DejaVu Sans Mono',consolas,'Courier New',monospace\"><span style=\"color: #ff00ff; text-decoration-color: #ff00ff\">## Task:</span> <span style=\"color: #00ff00; text-decoration-color: #00ff00\">Conduct searches to identify relevant ship owners and operators based     on LNG and Greece. Utilize </span>\n",
              "<span style=\"color: #00ff00; text-decoration-color: #00ff00\">WebsiteSearchTool and SerperDevTool for     comprehensive market analysis.Prioritize companies that are expanding, </span>\n",
              "<span style=\"color: #00ff00; text-decoration-color: #00ff00\">seeking professional ship management, or may require new technical or crew management solutions.Focus on ship </span>\n",
              "<span style=\"color: #00ff00; text-decoration-color: #00ff00\">owners with large fleets, new builds, or those looking to optimize operational efficiency.Gather essential company </span>\n",
              "<span style=\"color: #00ff00; text-decoration-color: #00ff00\">details (fleet size, operational focus, key decision-makers, and management structure).</span>\n",
              "</pre>\n"
            ],
            "text/plain": [
              "\u001b[95m## Task:\u001b[0m \u001b[92mConduct searches to identify relevant ship owners and operators based     on LNG and Greece. Utilize \u001b[0m\n",
              "\u001b[92mWebsiteSearchTool and SerperDevTool for     comprehensive market analysis.Prioritize companies that are expanding, \u001b[0m\n",
              "\u001b[92mseeking professional ship management, or may require new technical or crew management solutions.Focus on ship \u001b[0m\n",
              "\u001b[92mowners with large fleets, new builds, or those looking to optimize operational efficiency.Gather essential company \u001b[0m\n",
              "\u001b[92mdetails (fleet size, operational focus, key decision-makers, and management structure).\u001b[0m\n"
            ]
          },
          "metadata": {},
          "output_type": "display_data"
        },
        {
          "data": {
            "text/html": [
              "<pre style=\"white-space:pre;overflow-x:auto;line-height:normal;font-family:Menlo,'DejaVu Sans Mono',consolas,'Courier New',monospace\">c:\\Users\\pranav.r\\.pyenv\\pyenv-win\\versions\\3.11.9\\Lib\\site-packages\\rich\\live.py:231: UserWarning: install \n",
              "\"ipywidgets\" for Jupyter support\n",
              "  warnings.warn('install \"ipywidgets\" for Jupyter support')\n",
              "</pre>\n"
            ],
            "text/plain": [
              "c:\\Users\\pranav.r\\.pyenv\\pyenv-win\\versions\\3.11.9\\Lib\\site-packages\\rich\\live.py:231: UserWarning: install \n",
              "\"ipywidgets\" for Jupyter support\n",
              "  warnings.warn('install \"ipywidgets\" for Jupyter support')\n"
            ]
          },
          "metadata": {},
          "output_type": "display_data"
        },
        {
          "data": {
            "text/html": [
              "<pre style=\"white-space:pre;overflow-x:auto;line-height:normal;font-family:Menlo,'DejaVu Sans Mono',consolas,'Courier New',monospace\">c:\\Users\\pranav.r\\.pyenv\\pyenv-win\\versions\\3.11.9\\Lib\\site-packages\\rich\\live.py:231: UserWarning: install \n",
              "\"ipywidgets\" for Jupyter support\n",
              "  warnings.warn('install \"ipywidgets\" for Jupyter support')\n",
              "</pre>\n"
            ],
            "text/plain": [
              "c:\\Users\\pranav.r\\.pyenv\\pyenv-win\\versions\\3.11.9\\Lib\\site-packages\\rich\\live.py:231: UserWarning: install \n",
              "\"ipywidgets\" for Jupyter support\n",
              "  warnings.warn('install \"ipywidgets\" for Jupyter support')\n"
            ]
          },
          "metadata": {},
          "output_type": "display_data"
        },
        {
          "ename": "KeyboardInterrupt",
          "evalue": "",
          "output_type": "error",
          "traceback": [
            "\u001b[31m---------------------------------------------------------------------------\u001b[39m",
            "\u001b[31mKeyboardInterrupt\u001b[39m                         Traceback (most recent call last)",
            "\u001b[36mCell\u001b[39m\u001b[36m \u001b[39m\u001b[32mIn[26]\u001b[39m\u001b[32m, line 21\u001b[39m\n\u001b[32m     11\u001b[39m crew = Crew(\n\u001b[32m     12\u001b[39m \tagents=[lead_researcher, review_agent, strategy_developer, process_manager],\n\u001b[32m     13\u001b[39m \ttasks=[initial_research, lead_review, strategy_formulation, process_oversight],\n\u001b[32m   (...)\u001b[39m\u001b[32m     17\u001b[39m \tfull_output=\u001b[38;5;28;01mFalse\u001b[39;00m,\n\u001b[32m     18\u001b[39m )\n\u001b[32m     20\u001b[39m \u001b[38;5;66;03m#existing_file_path = '/Workspace/Users/pranav.r@synergyship.com/Leads_Results.docx'\u001b[39;00m\n\u001b[32m---> \u001b[39m\u001b[32m21\u001b[39m result = \u001b[43mcrew\u001b[49m\u001b[43m.\u001b[49m\u001b[43mkickoff\u001b[49m\u001b[43m(\u001b[49m\u001b[43minputs\u001b[49m\u001b[43m=\u001b[49m\u001b[43minputs\u001b[49m\u001b[43m)\u001b[49m;\n\u001b[32m     22\u001b[39m \u001b[38;5;28;01mif\u001b[39;00m \u001b[38;5;28mhasattr\u001b[39m(result, \u001b[33m'\u001b[39m\u001b[33mraw\u001b[39m\u001b[33m'\u001b[39m):\n\u001b[32m     23\u001b[39m \t\u001b[38;5;66;03m# Access the raw output of the CrewOutput object\u001b[39;00m\n\u001b[32m     24\u001b[39m \t\u001b[38;5;28mprint\u001b[39m(\u001b[33m\"\u001b[39m\u001b[33mRaw Output:\u001b[39m\u001b[33m\"\u001b[39m)\n",
            "\u001b[36mFile \u001b[39m\u001b[32mc:\\Users\\pranav.r\\.pyenv\\pyenv-win\\versions\\3.11.9\\Lib\\site-packages\\crewai\\crew.py:659\u001b[39m, in \u001b[36mCrew.kickoff\u001b[39m\u001b[34m(self, inputs)\u001b[39m\n\u001b[32m    656\u001b[39m     \u001b[38;5;28mself\u001b[39m._handle_crew_planning()\n\u001b[32m    658\u001b[39m \u001b[38;5;28;01mif\u001b[39;00m \u001b[38;5;28mself\u001b[39m.process == Process.sequential:\n\u001b[32m--> \u001b[39m\u001b[32m659\u001b[39m     result = \u001b[38;5;28;43mself\u001b[39;49m\u001b[43m.\u001b[49m\u001b[43m_run_sequential_process\u001b[49m\u001b[43m(\u001b[49m\u001b[43m)\u001b[49m\n\u001b[32m    660\u001b[39m \u001b[38;5;28;01melif\u001b[39;00m \u001b[38;5;28mself\u001b[39m.process == Process.hierarchical:\n\u001b[32m    661\u001b[39m     result = \u001b[38;5;28mself\u001b[39m._run_hierarchical_process()\n",
            "\u001b[36mFile \u001b[39m\u001b[32mc:\\Users\\pranav.r\\.pyenv\\pyenv-win\\versions\\3.11.9\\Lib\\site-packages\\crewai\\crew.py:768\u001b[39m, in \u001b[36mCrew._run_sequential_process\u001b[39m\u001b[34m(self)\u001b[39m\n\u001b[32m    766\u001b[39m \u001b[38;5;28;01mdef\u001b[39;00m\u001b[38;5;250m \u001b[39m\u001b[34m_run_sequential_process\u001b[39m(\u001b[38;5;28mself\u001b[39m) -> CrewOutput:\n\u001b[32m    767\u001b[39m \u001b[38;5;250m    \u001b[39m\u001b[33;03m\"\"\"Executes tasks sequentially and returns the final output.\"\"\"\u001b[39;00m\n\u001b[32m--> \u001b[39m\u001b[32m768\u001b[39m     \u001b[38;5;28;01mreturn\u001b[39;00m \u001b[38;5;28;43mself\u001b[39;49m\u001b[43m.\u001b[49m\u001b[43m_execute_tasks\u001b[49m\u001b[43m(\u001b[49m\u001b[38;5;28;43mself\u001b[39;49m\u001b[43m.\u001b[49m\u001b[43mtasks\u001b[49m\u001b[43m)\u001b[49m\n",
            "\u001b[36mFile \u001b[39m\u001b[32mc:\\Users\\pranav.r\\.pyenv\\pyenv-win\\versions\\3.11.9\\Lib\\site-packages\\crewai\\crew.py:871\u001b[39m, in \u001b[36mCrew._execute_tasks\u001b[39m\u001b[34m(self, tasks, start_index, was_replayed)\u001b[39m\n\u001b[32m    868\u001b[39m     futures.clear()\n\u001b[32m    870\u001b[39m context = \u001b[38;5;28mself\u001b[39m._get_context(task, task_outputs)\n\u001b[32m--> \u001b[39m\u001b[32m871\u001b[39m task_output = \u001b[43mtask\u001b[49m\u001b[43m.\u001b[49m\u001b[43mexecute_sync\u001b[49m\u001b[43m(\u001b[49m\n\u001b[32m    872\u001b[39m \u001b[43m    \u001b[49m\u001b[43magent\u001b[49m\u001b[43m=\u001b[49m\u001b[43magent_to_use\u001b[49m\u001b[43m,\u001b[49m\n\u001b[32m    873\u001b[39m \u001b[43m    \u001b[49m\u001b[43mcontext\u001b[49m\u001b[43m=\u001b[49m\u001b[43mcontext\u001b[49m\u001b[43m,\u001b[49m\n\u001b[32m    874\u001b[39m \u001b[43m    \u001b[49m\u001b[43mtools\u001b[49m\u001b[43m=\u001b[49m\u001b[43mcast\u001b[49m\u001b[43m(\u001b[49m\u001b[43mList\u001b[49m\u001b[43m[\u001b[49m\u001b[43mBaseTool\u001b[49m\u001b[43m]\u001b[49m\u001b[43m,\u001b[49m\u001b[43m \u001b[49m\u001b[43mtools_for_task\u001b[49m\u001b[43m)\u001b[49m\u001b[43m,\u001b[49m\n\u001b[32m    875\u001b[39m \u001b[43m\u001b[49m\u001b[43m)\u001b[49m\n\u001b[32m    876\u001b[39m task_outputs.append(task_output)\n\u001b[32m    877\u001b[39m \u001b[38;5;28mself\u001b[39m._process_task_result(task, task_output)\n",
            "\u001b[36mFile \u001b[39m\u001b[32mc:\\Users\\pranav.r\\.pyenv\\pyenv-win\\versions\\3.11.9\\Lib\\site-packages\\crewai\\task.py:351\u001b[39m, in \u001b[36mTask.execute_sync\u001b[39m\u001b[34m(self, agent, context, tools)\u001b[39m\n\u001b[32m    344\u001b[39m \u001b[38;5;28;01mdef\u001b[39;00m\u001b[38;5;250m \u001b[39m\u001b[34mexecute_sync\u001b[39m(\n\u001b[32m    345\u001b[39m     \u001b[38;5;28mself\u001b[39m,\n\u001b[32m    346\u001b[39m     agent: Optional[BaseAgent] = \u001b[38;5;28;01mNone\u001b[39;00m,\n\u001b[32m    347\u001b[39m     context: Optional[\u001b[38;5;28mstr\u001b[39m] = \u001b[38;5;28;01mNone\u001b[39;00m,\n\u001b[32m    348\u001b[39m     tools: Optional[List[BaseTool]] = \u001b[38;5;28;01mNone\u001b[39;00m,\n\u001b[32m    349\u001b[39m ) -> TaskOutput:\n\u001b[32m    350\u001b[39m \u001b[38;5;250m    \u001b[39m\u001b[33;03m\"\"\"Execute the task synchronously.\"\"\"\u001b[39;00m\n\u001b[32m--> \u001b[39m\u001b[32m351\u001b[39m     \u001b[38;5;28;01mreturn\u001b[39;00m \u001b[38;5;28;43mself\u001b[39;49m\u001b[43m.\u001b[49m\u001b[43m_execute_core\u001b[49m\u001b[43m(\u001b[49m\u001b[43magent\u001b[49m\u001b[43m,\u001b[49m\u001b[43m \u001b[49m\u001b[43mcontext\u001b[49m\u001b[43m,\u001b[49m\u001b[43m \u001b[49m\u001b[43mtools\u001b[49m\u001b[43m)\u001b[49m\n",
            "\u001b[36mFile \u001b[39m\u001b[32mc:\\Users\\pranav.r\\.pyenv\\pyenv-win\\versions\\3.11.9\\Lib\\site-packages\\crewai\\task.py:415\u001b[39m, in \u001b[36mTask._execute_core\u001b[39m\u001b[34m(self, agent, context, tools)\u001b[39m\n\u001b[32m    413\u001b[39m \u001b[38;5;28mself\u001b[39m.processed_by_agents.add(agent.role)\n\u001b[32m    414\u001b[39m crewai_event_bus.emit(\u001b[38;5;28mself\u001b[39m, TaskStartedEvent(context=context, task=\u001b[38;5;28mself\u001b[39m))\n\u001b[32m--> \u001b[39m\u001b[32m415\u001b[39m result = \u001b[43magent\u001b[49m\u001b[43m.\u001b[49m\u001b[43mexecute_task\u001b[49m\u001b[43m(\u001b[49m\n\u001b[32m    416\u001b[39m \u001b[43m    \u001b[49m\u001b[43mtask\u001b[49m\u001b[43m=\u001b[49m\u001b[38;5;28;43mself\u001b[39;49m\u001b[43m,\u001b[49m\n\u001b[32m    417\u001b[39m \u001b[43m    \u001b[49m\u001b[43mcontext\u001b[49m\u001b[43m=\u001b[49m\u001b[43mcontext\u001b[49m\u001b[43m,\u001b[49m\n\u001b[32m    418\u001b[39m \u001b[43m    \u001b[49m\u001b[43mtools\u001b[49m\u001b[43m=\u001b[49m\u001b[43mtools\u001b[49m\u001b[43m,\u001b[49m\n\u001b[32m    419\u001b[39m \u001b[43m\u001b[49m\u001b[43m)\u001b[49m\n\u001b[32m    421\u001b[39m pydantic_output, json_output = \u001b[38;5;28mself\u001b[39m._export_output(result)\n\u001b[32m    422\u001b[39m task_output = TaskOutput(\n\u001b[32m    423\u001b[39m     name=\u001b[38;5;28mself\u001b[39m.name,\n\u001b[32m    424\u001b[39m     description=\u001b[38;5;28mself\u001b[39m.description,\n\u001b[32m   (...)\u001b[39m\u001b[32m    430\u001b[39m     output_format=\u001b[38;5;28mself\u001b[39m._get_output_format(),\n\u001b[32m    431\u001b[39m )\n",
            "\u001b[36mFile \u001b[39m\u001b[32mc:\\Users\\pranav.r\\.pyenv\\pyenv-win\\versions\\3.11.9\\Lib\\site-packages\\crewai\\agent.py:411\u001b[39m, in \u001b[36mAgent.execute_task\u001b[39m\u001b[34m(self, task, context, tools)\u001b[39m\n\u001b[32m    407\u001b[39m         result = \u001b[38;5;28mself\u001b[39m._execute_with_timeout(\n\u001b[32m    408\u001b[39m             task_prompt, task, \u001b[38;5;28mself\u001b[39m.max_execution_time\n\u001b[32m    409\u001b[39m         )\n\u001b[32m    410\u001b[39m     \u001b[38;5;28;01melse\u001b[39;00m:\n\u001b[32m--> \u001b[39m\u001b[32m411\u001b[39m         result = \u001b[38;5;28;43mself\u001b[39;49m\u001b[43m.\u001b[49m\u001b[43m_execute_without_timeout\u001b[49m\u001b[43m(\u001b[49m\u001b[43mtask_prompt\u001b[49m\u001b[43m,\u001b[49m\u001b[43m \u001b[49m\u001b[43mtask\u001b[49m\u001b[43m)\u001b[49m\n\u001b[32m    413\u001b[39m \u001b[38;5;28;01mexcept\u001b[39;00m \u001b[38;5;167;01mTimeoutError\u001b[39;00m \u001b[38;5;28;01mas\u001b[39;00m e:\n\u001b[32m    414\u001b[39m     \u001b[38;5;66;03m# Propagate TimeoutError without retry\u001b[39;00m\n\u001b[32m    415\u001b[39m     crewai_event_bus.emit(\n\u001b[32m    416\u001b[39m         \u001b[38;5;28mself\u001b[39m,\n\u001b[32m    417\u001b[39m         event=AgentExecutionErrorEvent(\n\u001b[32m   (...)\u001b[39m\u001b[32m    421\u001b[39m         ),\n\u001b[32m    422\u001b[39m     )\n",
            "\u001b[36mFile \u001b[39m\u001b[32mc:\\Users\\pranav.r\\.pyenv\\pyenv-win\\versions\\3.11.9\\Lib\\site-packages\\crewai\\agent.py:507\u001b[39m, in \u001b[36mAgent._execute_without_timeout\u001b[39m\u001b[34m(self, task_prompt, task)\u001b[39m\n\u001b[32m    497\u001b[39m \u001b[38;5;28;01mdef\u001b[39;00m\u001b[38;5;250m \u001b[39m\u001b[34m_execute_without_timeout\u001b[39m(\u001b[38;5;28mself\u001b[39m, task_prompt: \u001b[38;5;28mstr\u001b[39m, task: Task) -> \u001b[38;5;28mstr\u001b[39m:\n\u001b[32m    498\u001b[39m \u001b[38;5;250m    \u001b[39m\u001b[33;03m\"\"\"Execute a task without a timeout.\u001b[39;00m\n\u001b[32m    499\u001b[39m \n\u001b[32m    500\u001b[39m \u001b[33;03m    Args:\u001b[39;00m\n\u001b[32m   (...)\u001b[39m\u001b[32m    505\u001b[39m \u001b[33;03m        The output of the agent.\u001b[39;00m\n\u001b[32m    506\u001b[39m \u001b[33;03m    \"\"\"\u001b[39;00m\n\u001b[32m--> \u001b[39m\u001b[32m507\u001b[39m     \u001b[38;5;28;01mreturn\u001b[39;00m \u001b[38;5;28;43mself\u001b[39;49m\u001b[43m.\u001b[49m\u001b[43magent_executor\u001b[49m\u001b[43m.\u001b[49m\u001b[43minvoke\u001b[49m\u001b[43m(\u001b[49m\n\u001b[32m    508\u001b[39m \u001b[43m        \u001b[49m\u001b[43m{\u001b[49m\n\u001b[32m    509\u001b[39m \u001b[43m            \u001b[49m\u001b[33;43m\"\u001b[39;49m\u001b[33;43minput\u001b[39;49m\u001b[33;43m\"\u001b[39;49m\u001b[43m:\u001b[49m\u001b[43m \u001b[49m\u001b[43mtask_prompt\u001b[49m\u001b[43m,\u001b[49m\n\u001b[32m    510\u001b[39m \u001b[43m            \u001b[49m\u001b[33;43m\"\u001b[39;49m\u001b[33;43mtool_names\u001b[39;49m\u001b[33;43m\"\u001b[39;49m\u001b[43m:\u001b[49m\u001b[43m \u001b[49m\u001b[38;5;28;43mself\u001b[39;49m\u001b[43m.\u001b[49m\u001b[43magent_executor\u001b[49m\u001b[43m.\u001b[49m\u001b[43mtools_names\u001b[49m\u001b[43m,\u001b[49m\n\u001b[32m    511\u001b[39m \u001b[43m            \u001b[49m\u001b[33;43m\"\u001b[39;49m\u001b[33;43mtools\u001b[39;49m\u001b[33;43m\"\u001b[39;49m\u001b[43m:\u001b[49m\u001b[43m \u001b[49m\u001b[38;5;28;43mself\u001b[39;49m\u001b[43m.\u001b[49m\u001b[43magent_executor\u001b[49m\u001b[43m.\u001b[49m\u001b[43mtools_description\u001b[49m\u001b[43m,\u001b[49m\n\u001b[32m    512\u001b[39m \u001b[43m            \u001b[49m\u001b[33;43m\"\u001b[39;49m\u001b[33;43mask_for_human_input\u001b[39;49m\u001b[33;43m\"\u001b[39;49m\u001b[43m:\u001b[49m\u001b[43m \u001b[49m\u001b[43mtask\u001b[49m\u001b[43m.\u001b[49m\u001b[43mhuman_input\u001b[49m\u001b[43m,\u001b[49m\n\u001b[32m    513\u001b[39m \u001b[43m        \u001b[49m\u001b[43m}\u001b[49m\n\u001b[32m    514\u001b[39m \u001b[43m    \u001b[49m\u001b[43m)\u001b[49m[\u001b[33m\"\u001b[39m\u001b[33moutput\u001b[39m\u001b[33m\"\u001b[39m]\n",
            "\u001b[36mFile \u001b[39m\u001b[32mc:\\Users\\pranav.r\\.pyenv\\pyenv-win\\versions\\3.11.9\\Lib\\site-packages\\crewai\\agents\\crew_agent_executor.py:110\u001b[39m, in \u001b[36mCrewAgentExecutor.invoke\u001b[39m\u001b[34m(self, inputs)\u001b[39m\n\u001b[32m    107\u001b[39m \u001b[38;5;28mself\u001b[39m.ask_for_human_input = \u001b[38;5;28mbool\u001b[39m(inputs.get(\u001b[33m\"\u001b[39m\u001b[33mask_for_human_input\u001b[39m\u001b[33m\"\u001b[39m, \u001b[38;5;28;01mFalse\u001b[39;00m))\n\u001b[32m    109\u001b[39m \u001b[38;5;28;01mtry\u001b[39;00m:\n\u001b[32m--> \u001b[39m\u001b[32m110\u001b[39m     formatted_answer = \u001b[38;5;28;43mself\u001b[39;49m\u001b[43m.\u001b[49m\u001b[43m_invoke_loop\u001b[49m\u001b[43m(\u001b[49m\u001b[43m)\u001b[49m\n\u001b[32m    111\u001b[39m \u001b[38;5;28;01mexcept\u001b[39;00m \u001b[38;5;167;01mAssertionError\u001b[39;00m:\n\u001b[32m    112\u001b[39m     \u001b[38;5;28mself\u001b[39m._printer.print(\n\u001b[32m    113\u001b[39m         content=\u001b[33m\"\u001b[39m\u001b[33mAgent failed to reach a final answer. This is likely a bug - please report it.\u001b[39m\u001b[33m\"\u001b[39m,\n\u001b[32m    114\u001b[39m         color=\u001b[33m\"\u001b[39m\u001b[33mred\u001b[39m\u001b[33m\"\u001b[39m,\n\u001b[32m    115\u001b[39m     )\n",
            "\u001b[36mFile \u001b[39m\u001b[32mc:\\Users\\pranav.r\\.pyenv\\pyenv-win\\versions\\3.11.9\\Lib\\site-packages\\crewai\\agents\\crew_agent_executor.py:175\u001b[39m, in \u001b[36mCrewAgentExecutor._invoke_loop\u001b[39m\u001b[34m(self)\u001b[39m\n\u001b[32m    164\u001b[39m     \u001b[38;5;28;01mif\u001b[39;00m (\n\u001b[32m    165\u001b[39m         \u001b[38;5;28mself\u001b[39m.agent\n\u001b[32m    166\u001b[39m         \u001b[38;5;129;01mand\u001b[39;00m \u001b[38;5;28mhasattr\u001b[39m(\u001b[38;5;28mself\u001b[39m.agent, \u001b[33m\"\u001b[39m\u001b[33msecurity_config\u001b[39m\u001b[33m\"\u001b[39m)\n\u001b[32m    167\u001b[39m         \u001b[38;5;129;01mand\u001b[39;00m \u001b[38;5;28mhasattr\u001b[39m(\u001b[38;5;28mself\u001b[39m.agent.security_config, \u001b[33m\"\u001b[39m\u001b[33mfingerprint\u001b[39m\u001b[33m\"\u001b[39m)\n\u001b[32m    168\u001b[39m     ):\n\u001b[32m    169\u001b[39m         fingerprint_context = {\n\u001b[32m    170\u001b[39m             \u001b[33m\"\u001b[39m\u001b[33magent_fingerprint\u001b[39m\u001b[33m\"\u001b[39m: \u001b[38;5;28mstr\u001b[39m(\n\u001b[32m    171\u001b[39m                 \u001b[38;5;28mself\u001b[39m.agent.security_config.fingerprint\n\u001b[32m    172\u001b[39m             )\n\u001b[32m    173\u001b[39m         }\n\u001b[32m--> \u001b[39m\u001b[32m175\u001b[39m     tool_result = \u001b[43mexecute_tool_and_check_finality\u001b[49m\u001b[43m(\u001b[49m\n\u001b[32m    176\u001b[39m \u001b[43m        \u001b[49m\u001b[43magent_action\u001b[49m\u001b[43m=\u001b[49m\u001b[43mformatted_answer\u001b[49m\u001b[43m,\u001b[49m\n\u001b[32m    177\u001b[39m \u001b[43m        \u001b[49m\u001b[43mfingerprint_context\u001b[49m\u001b[43m=\u001b[49m\u001b[43mfingerprint_context\u001b[49m\u001b[43m,\u001b[49m\n\u001b[32m    178\u001b[39m \u001b[43m        \u001b[49m\u001b[43mtools\u001b[49m\u001b[43m=\u001b[49m\u001b[38;5;28;43mself\u001b[39;49m\u001b[43m.\u001b[49m\u001b[43mtools\u001b[49m\u001b[43m,\u001b[49m\n\u001b[32m    179\u001b[39m \u001b[43m        \u001b[49m\u001b[43mi18n\u001b[49m\u001b[43m=\u001b[49m\u001b[38;5;28;43mself\u001b[39;49m\u001b[43m.\u001b[49m\u001b[43m_i18n\u001b[49m\u001b[43m,\u001b[49m\n\u001b[32m    180\u001b[39m \u001b[43m        \u001b[49m\u001b[43magent_key\u001b[49m\u001b[43m=\u001b[49m\u001b[38;5;28;43mself\u001b[39;49m\u001b[43m.\u001b[49m\u001b[43magent\u001b[49m\u001b[43m.\u001b[49m\u001b[43mkey\u001b[49m\u001b[43m \u001b[49m\u001b[38;5;28;43;01mif\u001b[39;49;00m\u001b[43m \u001b[49m\u001b[38;5;28;43mself\u001b[39;49m\u001b[43m.\u001b[49m\u001b[43magent\u001b[49m\u001b[43m \u001b[49m\u001b[38;5;28;43;01melse\u001b[39;49;00m\u001b[43m \u001b[49m\u001b[38;5;28;43;01mNone\u001b[39;49;00m\u001b[43m,\u001b[49m\n\u001b[32m    181\u001b[39m \u001b[43m        \u001b[49m\u001b[43magent_role\u001b[49m\u001b[43m=\u001b[49m\u001b[38;5;28;43mself\u001b[39;49m\u001b[43m.\u001b[49m\u001b[43magent\u001b[49m\u001b[43m.\u001b[49m\u001b[43mrole\u001b[49m\u001b[43m \u001b[49m\u001b[38;5;28;43;01mif\u001b[39;49;00m\u001b[43m \u001b[49m\u001b[38;5;28;43mself\u001b[39;49m\u001b[43m.\u001b[49m\u001b[43magent\u001b[49m\u001b[43m \u001b[49m\u001b[38;5;28;43;01melse\u001b[39;49;00m\u001b[43m \u001b[49m\u001b[38;5;28;43;01mNone\u001b[39;49;00m\u001b[43m,\u001b[49m\n\u001b[32m    182\u001b[39m \u001b[43m        \u001b[49m\u001b[43mtools_handler\u001b[49m\u001b[43m=\u001b[49m\u001b[38;5;28;43mself\u001b[39;49m\u001b[43m.\u001b[49m\u001b[43mtools_handler\u001b[49m\u001b[43m,\u001b[49m\n\u001b[32m    183\u001b[39m \u001b[43m        \u001b[49m\u001b[43mtask\u001b[49m\u001b[43m=\u001b[49m\u001b[38;5;28;43mself\u001b[39;49m\u001b[43m.\u001b[49m\u001b[43mtask\u001b[49m\u001b[43m,\u001b[49m\n\u001b[32m    184\u001b[39m \u001b[43m        \u001b[49m\u001b[43magent\u001b[49m\u001b[43m=\u001b[49m\u001b[38;5;28;43mself\u001b[39;49m\u001b[43m.\u001b[49m\u001b[43magent\u001b[49m\u001b[43m,\u001b[49m\n\u001b[32m    185\u001b[39m \u001b[43m        \u001b[49m\u001b[43mfunction_calling_llm\u001b[49m\u001b[43m=\u001b[49m\u001b[38;5;28;43mself\u001b[39;49m\u001b[43m.\u001b[49m\u001b[43mfunction_calling_llm\u001b[49m\u001b[43m,\u001b[49m\n\u001b[32m    186\u001b[39m \u001b[43m    \u001b[49m\u001b[43m)\u001b[49m\n\u001b[32m    187\u001b[39m     formatted_answer = \u001b[38;5;28mself\u001b[39m._handle_agent_action(\n\u001b[32m    188\u001b[39m         formatted_answer, tool_result\n\u001b[32m    189\u001b[39m     )\n\u001b[32m    191\u001b[39m \u001b[38;5;28mself\u001b[39m._invoke_step_callback(formatted_answer)\n",
            "\u001b[36mFile \u001b[39m\u001b[32mc:\\Users\\pranav.r\\.pyenv\\pyenv-win\\versions\\3.11.9\\Lib\\site-packages\\crewai\\utilities\\tool_utils.py:77\u001b[39m, in \u001b[36mexecute_tool_and_check_finality\u001b[39m\u001b[34m(agent_action, tools, i18n, agent_key, agent_role, tools_handler, task, agent, function_calling_llm, fingerprint_context)\u001b[39m\n\u001b[32m     71\u001b[39m \u001b[38;5;66;03m# Check if tool name matches\u001b[39;00m\n\u001b[32m     72\u001b[39m \u001b[38;5;28;01mif\u001b[39;00m tool_calling.tool_name.casefold().strip() \u001b[38;5;129;01min\u001b[39;00m [\n\u001b[32m     73\u001b[39m     name.casefold().strip() \u001b[38;5;28;01mfor\u001b[39;00m name \u001b[38;5;129;01min\u001b[39;00m tool_name_to_tool_map\n\u001b[32m     74\u001b[39m ] \u001b[38;5;129;01mor\u001b[39;00m tool_calling.tool_name.casefold().replace(\u001b[33m\"\u001b[39m\u001b[33m_\u001b[39m\u001b[33m\"\u001b[39m, \u001b[33m\"\u001b[39m\u001b[33m \u001b[39m\u001b[33m\"\u001b[39m) \u001b[38;5;129;01min\u001b[39;00m [\n\u001b[32m     75\u001b[39m     name.casefold().strip() \u001b[38;5;28;01mfor\u001b[39;00m name \u001b[38;5;129;01min\u001b[39;00m tool_name_to_tool_map\n\u001b[32m     76\u001b[39m ]:\n\u001b[32m---> \u001b[39m\u001b[32m77\u001b[39m     tool_result = \u001b[43mtool_usage\u001b[49m\u001b[43m.\u001b[49m\u001b[43muse\u001b[49m\u001b[43m(\u001b[49m\u001b[43mtool_calling\u001b[49m\u001b[43m,\u001b[49m\u001b[43m \u001b[49m\u001b[43magent_action\u001b[49m\u001b[43m.\u001b[49m\u001b[43mtext\u001b[49m\u001b[43m)\u001b[49m\n\u001b[32m     78\u001b[39m     tool = tool_name_to_tool_map.get(tool_calling.tool_name)\n\u001b[32m     79\u001b[39m     \u001b[38;5;28;01mif\u001b[39;00m tool:\n",
            "\u001b[36mFile \u001b[39m\u001b[32mc:\\Users\\pranav.r\\.pyenv\\pyenv-win\\versions\\3.11.9\\Lib\\site-packages\\crewai\\tools\\tool_usage.py:144\u001b[39m, in \u001b[36mToolUsage.use\u001b[39m\u001b[34m(self, calling, tool_string)\u001b[39m\n\u001b[32m    141\u001b[39m             \u001b[38;5;28mself\u001b[39m._printer.print(content=\u001b[33mf\u001b[39m\u001b[33m\"\u001b[39m\u001b[38;5;130;01m\\n\u001b[39;00m\u001b[38;5;130;01m\\n\u001b[39;00m\u001b[38;5;132;01m{\u001b[39;00merror\u001b[38;5;132;01m}\u001b[39;00m\u001b[38;5;130;01m\\n\u001b[39;00m\u001b[33m\"\u001b[39m, color=\u001b[33m\"\u001b[39m\u001b[33mred\u001b[39m\u001b[33m\"\u001b[39m)\n\u001b[32m    142\u001b[39m         \u001b[38;5;28;01mreturn\u001b[39;00m error\n\u001b[32m--> \u001b[39m\u001b[32m144\u001b[39m \u001b[38;5;28;01mreturn\u001b[39;00m \u001b[33mf\u001b[39m\u001b[33m\"\u001b[39m\u001b[38;5;132;01m{\u001b[39;00m\u001b[38;5;28;43mself\u001b[39;49m\u001b[43m.\u001b[49m\u001b[43m_use\u001b[49m\u001b[43m(\u001b[49m\u001b[43mtool_string\u001b[49m\u001b[43m=\u001b[49m\u001b[43mtool_string\u001b[49m\u001b[43m,\u001b[49m\u001b[38;5;250;43m \u001b[39;49m\u001b[43mtool\u001b[49m\u001b[43m=\u001b[49m\u001b[43mtool\u001b[49m\u001b[43m,\u001b[49m\u001b[38;5;250;43m \u001b[39;49m\u001b[43mcalling\u001b[49m\u001b[43m=\u001b[49m\u001b[43mcalling\u001b[49m\u001b[43m)\u001b[49m\u001b[38;5;132;01m}\u001b[39;00m\u001b[33m\"\u001b[39m\n",
            "\u001b[36mFile \u001b[39m\u001b[32mc:\\Users\\pranav.r\\.pyenv\\pyenv-win\\versions\\3.11.9\\Lib\\site-packages\\crewai\\tools\\tool_usage.py:238\u001b[39m, in \u001b[36mToolUsage._use\u001b[39m\u001b[34m(self, tool_string, tool, calling)\u001b[39m\n\u001b[32m    236\u001b[39m     \u001b[38;5;66;03m# Add fingerprint metadata if available\u001b[39;00m\n\u001b[32m    237\u001b[39m     arguments = \u001b[38;5;28mself\u001b[39m._add_fingerprint_metadata(arguments)\n\u001b[32m--> \u001b[39m\u001b[32m238\u001b[39m     result = \u001b[43mtool\u001b[49m\u001b[43m.\u001b[49m\u001b[43minvoke\u001b[49m\u001b[43m(\u001b[49m\u001b[38;5;28;43minput\u001b[39;49m\u001b[43m=\u001b[49m\u001b[43marguments\u001b[49m\u001b[43m)\u001b[49m\n\u001b[32m    239\u001b[39m \u001b[38;5;28;01mexcept\u001b[39;00m \u001b[38;5;167;01mException\u001b[39;00m:\n\u001b[32m    240\u001b[39m     arguments = calling.arguments\n",
            "\u001b[36mFile \u001b[39m\u001b[32mc:\\Users\\pranav.r\\.pyenv\\pyenv-win\\versions\\3.11.9\\Lib\\site-packages\\crewai\\tools\\structured_tool.py:249\u001b[39m, in \u001b[36mCrewStructuredTool.invoke\u001b[39m\u001b[34m(self, input, config, **kwargs)\u001b[39m\n\u001b[32m    246\u001b[39m     result = asyncio.run(\u001b[38;5;28mself\u001b[39m.func(**parsed_args, **kwargs))\n\u001b[32m    247\u001b[39m     \u001b[38;5;28;01mreturn\u001b[39;00m result\n\u001b[32m--> \u001b[39m\u001b[32m249\u001b[39m result = \u001b[38;5;28;43mself\u001b[39;49m\u001b[43m.\u001b[49m\u001b[43mfunc\u001b[49m\u001b[43m(\u001b[49m\u001b[43m*\u001b[49m\u001b[43m*\u001b[49m\u001b[43mparsed_args\u001b[49m\u001b[43m,\u001b[49m\u001b[43m \u001b[49m\u001b[43m*\u001b[49m\u001b[43m*\u001b[49m\u001b[43mkwargs\u001b[49m\u001b[43m)\u001b[49m\n\u001b[32m    251\u001b[39m \u001b[38;5;28;01mif\u001b[39;00m asyncio.iscoroutine(result):\n\u001b[32m    252\u001b[39m     \u001b[38;5;28;01mreturn\u001b[39;00m asyncio.run(result)\n",
            "\u001b[36mFile \u001b[39m\u001b[32mc:\\Users\\pranav.r\\.pyenv\\pyenv-win\\versions\\3.11.9\\Lib\\site-packages\\crewai_tools\\tools\\serper_dev_tool\\serper_dev_tool.py:231\u001b[39m, in \u001b[36mSerperDevTool._run\u001b[39m\u001b[34m(self, **kwargs)\u001b[39m\n\u001b[32m    228\u001b[39m search_type = kwargs.get(\u001b[33m\"\u001b[39m\u001b[33msearch_type\u001b[39m\u001b[33m\"\u001b[39m, \u001b[38;5;28mself\u001b[39m.search_type)\n\u001b[32m    229\u001b[39m save_file = kwargs.get(\u001b[33m\"\u001b[39m\u001b[33msave_file\u001b[39m\u001b[33m\"\u001b[39m, \u001b[38;5;28mself\u001b[39m.save_file)\n\u001b[32m--> \u001b[39m\u001b[32m231\u001b[39m results = \u001b[38;5;28;43mself\u001b[39;49m\u001b[43m.\u001b[49m\u001b[43m_make_api_request\u001b[49m\u001b[43m(\u001b[49m\u001b[43msearch_query\u001b[49m\u001b[43m,\u001b[49m\u001b[43m \u001b[49m\u001b[43msearch_type\u001b[49m\u001b[43m)\u001b[49m\n\u001b[32m    233\u001b[39m formatted_results = {\n\u001b[32m    234\u001b[39m     \u001b[33m\"\u001b[39m\u001b[33msearchParameters\u001b[39m\u001b[33m\"\u001b[39m: {\n\u001b[32m    235\u001b[39m         \u001b[33m\"\u001b[39m\u001b[33mq\u001b[39m\u001b[33m\"\u001b[39m: search_query,\n\u001b[32m   (...)\u001b[39m\u001b[32m    238\u001b[39m     }\n\u001b[32m    239\u001b[39m }\n\u001b[32m    241\u001b[39m formatted_results.update(\u001b[38;5;28mself\u001b[39m._process_search_results(results, search_type))\n",
            "\u001b[36mFile \u001b[39m\u001b[32mc:\\Users\\pranav.r\\.pyenv\\pyenv-win\\versions\\3.11.9\\Lib\\site-packages\\crewai_tools\\tools\\serper_dev_tool\\serper_dev_tool.py:169\u001b[39m, in \u001b[36mSerperDevTool._make_api_request\u001b[39m\u001b[34m(self, search_query, search_type)\u001b[39m\n\u001b[32m    167\u001b[39m response = \u001b[38;5;28;01mNone\u001b[39;00m\n\u001b[32m    168\u001b[39m \u001b[38;5;28;01mtry\u001b[39;00m:\n\u001b[32m--> \u001b[39m\u001b[32m169\u001b[39m     response = \u001b[43mrequests\u001b[49m\u001b[43m.\u001b[49m\u001b[43mpost\u001b[49m\u001b[43m(\u001b[49m\n\u001b[32m    170\u001b[39m \u001b[43m        \u001b[49m\u001b[43msearch_url\u001b[49m\u001b[43m,\u001b[49m\u001b[43m \u001b[49m\u001b[43mheaders\u001b[49m\u001b[43m=\u001b[49m\u001b[43mheaders\u001b[49m\u001b[43m,\u001b[49m\u001b[43m \u001b[49m\u001b[43mjson\u001b[49m\u001b[43m=\u001b[49m\u001b[43mjson\u001b[49m\u001b[43m.\u001b[49m\u001b[43mloads\u001b[49m\u001b[43m(\u001b[49m\u001b[43mpayload\u001b[49m\u001b[43m)\u001b[49m\u001b[43m,\u001b[49m\u001b[43m \u001b[49m\u001b[43mtimeout\u001b[49m\u001b[43m=\u001b[49m\u001b[32;43m10\u001b[39;49m\n\u001b[32m    171\u001b[39m \u001b[43m    \u001b[49m\u001b[43m)\u001b[49m\n\u001b[32m    172\u001b[39m     response.raise_for_status()\n\u001b[32m    173\u001b[39m     results = response.json()\n",
            "\u001b[36mFile \u001b[39m\u001b[32mc:\\Users\\pranav.r\\.pyenv\\pyenv-win\\versions\\3.11.9\\Lib\\site-packages\\requests\\api.py:115\u001b[39m, in \u001b[36mpost\u001b[39m\u001b[34m(url, data, json, **kwargs)\u001b[39m\n\u001b[32m    103\u001b[39m \u001b[38;5;28;01mdef\u001b[39;00m\u001b[38;5;250m \u001b[39m\u001b[34mpost\u001b[39m(url, data=\u001b[38;5;28;01mNone\u001b[39;00m, json=\u001b[38;5;28;01mNone\u001b[39;00m, **kwargs):\n\u001b[32m    104\u001b[39m \u001b[38;5;250m    \u001b[39m\u001b[33mr\u001b[39m\u001b[33;03m\"\"\"Sends a POST request.\u001b[39;00m\n\u001b[32m    105\u001b[39m \n\u001b[32m    106\u001b[39m \u001b[33;03m    :param url: URL for the new :class:`Request` object.\u001b[39;00m\n\u001b[32m   (...)\u001b[39m\u001b[32m    112\u001b[39m \u001b[33;03m    :rtype: requests.Response\u001b[39;00m\n\u001b[32m    113\u001b[39m \u001b[33;03m    \"\"\"\u001b[39;00m\n\u001b[32m--> \u001b[39m\u001b[32m115\u001b[39m     \u001b[38;5;28;01mreturn\u001b[39;00m \u001b[43mrequest\u001b[49m\u001b[43m(\u001b[49m\u001b[33;43m\"\u001b[39;49m\u001b[33;43mpost\u001b[39;49m\u001b[33;43m\"\u001b[39;49m\u001b[43m,\u001b[49m\u001b[43m \u001b[49m\u001b[43murl\u001b[49m\u001b[43m,\u001b[49m\u001b[43m \u001b[49m\u001b[43mdata\u001b[49m\u001b[43m=\u001b[49m\u001b[43mdata\u001b[49m\u001b[43m,\u001b[49m\u001b[43m \u001b[49m\u001b[43mjson\u001b[49m\u001b[43m=\u001b[49m\u001b[43mjson\u001b[49m\u001b[43m,\u001b[49m\u001b[43m \u001b[49m\u001b[43m*\u001b[49m\u001b[43m*\u001b[49m\u001b[43mkwargs\u001b[49m\u001b[43m)\u001b[49m\n",
            "\u001b[36mFile \u001b[39m\u001b[32mc:\\Users\\pranav.r\\.pyenv\\pyenv-win\\versions\\3.11.9\\Lib\\site-packages\\requests\\api.py:59\u001b[39m, in \u001b[36mrequest\u001b[39m\u001b[34m(method, url, **kwargs)\u001b[39m\n\u001b[32m     55\u001b[39m \u001b[38;5;66;03m# By using the 'with' statement we are sure the session is closed, thus we\u001b[39;00m\n\u001b[32m     56\u001b[39m \u001b[38;5;66;03m# avoid leaving sockets open which can trigger a ResourceWarning in some\u001b[39;00m\n\u001b[32m     57\u001b[39m \u001b[38;5;66;03m# cases, and look like a memory leak in others.\u001b[39;00m\n\u001b[32m     58\u001b[39m \u001b[38;5;28;01mwith\u001b[39;00m sessions.Session() \u001b[38;5;28;01mas\u001b[39;00m session:\n\u001b[32m---> \u001b[39m\u001b[32m59\u001b[39m     \u001b[38;5;28;01mreturn\u001b[39;00m \u001b[43msession\u001b[49m\u001b[43m.\u001b[49m\u001b[43mrequest\u001b[49m\u001b[43m(\u001b[49m\u001b[43mmethod\u001b[49m\u001b[43m=\u001b[49m\u001b[43mmethod\u001b[49m\u001b[43m,\u001b[49m\u001b[43m \u001b[49m\u001b[43murl\u001b[49m\u001b[43m=\u001b[49m\u001b[43murl\u001b[49m\u001b[43m,\u001b[49m\u001b[43m \u001b[49m\u001b[43m*\u001b[49m\u001b[43m*\u001b[49m\u001b[43mkwargs\u001b[49m\u001b[43m)\u001b[49m\n",
            "\u001b[36mFile \u001b[39m\u001b[32mc:\\Users\\pranav.r\\.pyenv\\pyenv-win\\versions\\3.11.9\\Lib\\site-packages\\requests\\sessions.py:589\u001b[39m, in \u001b[36mSession.request\u001b[39m\u001b[34m(self, method, url, params, data, headers, cookies, files, auth, timeout, allow_redirects, proxies, hooks, stream, verify, cert, json)\u001b[39m\n\u001b[32m    584\u001b[39m send_kwargs = {\n\u001b[32m    585\u001b[39m     \u001b[33m\"\u001b[39m\u001b[33mtimeout\u001b[39m\u001b[33m\"\u001b[39m: timeout,\n\u001b[32m    586\u001b[39m     \u001b[33m\"\u001b[39m\u001b[33mallow_redirects\u001b[39m\u001b[33m\"\u001b[39m: allow_redirects,\n\u001b[32m    587\u001b[39m }\n\u001b[32m    588\u001b[39m send_kwargs.update(settings)\n\u001b[32m--> \u001b[39m\u001b[32m589\u001b[39m resp = \u001b[38;5;28;43mself\u001b[39;49m\u001b[43m.\u001b[49m\u001b[43msend\u001b[49m\u001b[43m(\u001b[49m\u001b[43mprep\u001b[49m\u001b[43m,\u001b[49m\u001b[43m \u001b[49m\u001b[43m*\u001b[49m\u001b[43m*\u001b[49m\u001b[43msend_kwargs\u001b[49m\u001b[43m)\u001b[49m\n\u001b[32m    591\u001b[39m \u001b[38;5;28;01mreturn\u001b[39;00m resp\n",
            "\u001b[36mFile \u001b[39m\u001b[32mc:\\Users\\pranav.r\\.pyenv\\pyenv-win\\versions\\3.11.9\\Lib\\site-packages\\requests\\sessions.py:703\u001b[39m, in \u001b[36mSession.send\u001b[39m\u001b[34m(self, request, **kwargs)\u001b[39m\n\u001b[32m    700\u001b[39m start = preferred_clock()\n\u001b[32m    702\u001b[39m \u001b[38;5;66;03m# Send the request\u001b[39;00m\n\u001b[32m--> \u001b[39m\u001b[32m703\u001b[39m r = \u001b[43madapter\u001b[49m\u001b[43m.\u001b[49m\u001b[43msend\u001b[49m\u001b[43m(\u001b[49m\u001b[43mrequest\u001b[49m\u001b[43m,\u001b[49m\u001b[43m \u001b[49m\u001b[43m*\u001b[49m\u001b[43m*\u001b[49m\u001b[43mkwargs\u001b[49m\u001b[43m)\u001b[49m\n\u001b[32m    705\u001b[39m \u001b[38;5;66;03m# Total elapsed time of the request (approximately)\u001b[39;00m\n\u001b[32m    706\u001b[39m elapsed = preferred_clock() - start\n",
            "\u001b[36mFile \u001b[39m\u001b[32mc:\\Users\\pranav.r\\.pyenv\\pyenv-win\\versions\\3.11.9\\Lib\\site-packages\\requests\\adapters.py:667\u001b[39m, in \u001b[36mHTTPAdapter.send\u001b[39m\u001b[34m(self, request, stream, timeout, verify, cert, proxies)\u001b[39m\n\u001b[32m    664\u001b[39m     timeout = TimeoutSauce(connect=timeout, read=timeout)\n\u001b[32m    666\u001b[39m \u001b[38;5;28;01mtry\u001b[39;00m:\n\u001b[32m--> \u001b[39m\u001b[32m667\u001b[39m     resp = \u001b[43mconn\u001b[49m\u001b[43m.\u001b[49m\u001b[43murlopen\u001b[49m\u001b[43m(\u001b[49m\n\u001b[32m    668\u001b[39m \u001b[43m        \u001b[49m\u001b[43mmethod\u001b[49m\u001b[43m=\u001b[49m\u001b[43mrequest\u001b[49m\u001b[43m.\u001b[49m\u001b[43mmethod\u001b[49m\u001b[43m,\u001b[49m\n\u001b[32m    669\u001b[39m \u001b[43m        \u001b[49m\u001b[43murl\u001b[49m\u001b[43m=\u001b[49m\u001b[43murl\u001b[49m\u001b[43m,\u001b[49m\n\u001b[32m    670\u001b[39m \u001b[43m        \u001b[49m\u001b[43mbody\u001b[49m\u001b[43m=\u001b[49m\u001b[43mrequest\u001b[49m\u001b[43m.\u001b[49m\u001b[43mbody\u001b[49m\u001b[43m,\u001b[49m\n\u001b[32m    671\u001b[39m \u001b[43m        \u001b[49m\u001b[43mheaders\u001b[49m\u001b[43m=\u001b[49m\u001b[43mrequest\u001b[49m\u001b[43m.\u001b[49m\u001b[43mheaders\u001b[49m\u001b[43m,\u001b[49m\n\u001b[32m    672\u001b[39m \u001b[43m        \u001b[49m\u001b[43mredirect\u001b[49m\u001b[43m=\u001b[49m\u001b[38;5;28;43;01mFalse\u001b[39;49;00m\u001b[43m,\u001b[49m\n\u001b[32m    673\u001b[39m \u001b[43m        \u001b[49m\u001b[43massert_same_host\u001b[49m\u001b[43m=\u001b[49m\u001b[38;5;28;43;01mFalse\u001b[39;49;00m\u001b[43m,\u001b[49m\n\u001b[32m    674\u001b[39m \u001b[43m        \u001b[49m\u001b[43mpreload_content\u001b[49m\u001b[43m=\u001b[49m\u001b[38;5;28;43;01mFalse\u001b[39;49;00m\u001b[43m,\u001b[49m\n\u001b[32m    675\u001b[39m \u001b[43m        \u001b[49m\u001b[43mdecode_content\u001b[49m\u001b[43m=\u001b[49m\u001b[38;5;28;43;01mFalse\u001b[39;49;00m\u001b[43m,\u001b[49m\n\u001b[32m    676\u001b[39m \u001b[43m        \u001b[49m\u001b[43mretries\u001b[49m\u001b[43m=\u001b[49m\u001b[38;5;28;43mself\u001b[39;49m\u001b[43m.\u001b[49m\u001b[43mmax_retries\u001b[49m\u001b[43m,\u001b[49m\n\u001b[32m    677\u001b[39m \u001b[43m        \u001b[49m\u001b[43mtimeout\u001b[49m\u001b[43m=\u001b[49m\u001b[43mtimeout\u001b[49m\u001b[43m,\u001b[49m\n\u001b[32m    678\u001b[39m \u001b[43m        \u001b[49m\u001b[43mchunked\u001b[49m\u001b[43m=\u001b[49m\u001b[43mchunked\u001b[49m\u001b[43m,\u001b[49m\n\u001b[32m    679\u001b[39m \u001b[43m    \u001b[49m\u001b[43m)\u001b[49m\n\u001b[32m    681\u001b[39m \u001b[38;5;28;01mexcept\u001b[39;00m (ProtocolError, \u001b[38;5;167;01mOSError\u001b[39;00m) \u001b[38;5;28;01mas\u001b[39;00m err:\n\u001b[32m    682\u001b[39m     \u001b[38;5;28;01mraise\u001b[39;00m \u001b[38;5;167;01mConnectionError\u001b[39;00m(err, request=request)\n",
            "\u001b[36mFile \u001b[39m\u001b[32mc:\\Users\\pranav.r\\.pyenv\\pyenv-win\\versions\\3.11.9\\Lib\\site-packages\\urllib3\\connectionpool.py:787\u001b[39m, in \u001b[36mHTTPConnectionPool.urlopen\u001b[39m\u001b[34m(self, method, url, body, headers, retries, redirect, assert_same_host, timeout, pool_timeout, release_conn, chunked, body_pos, preload_content, decode_content, **response_kw)\u001b[39m\n\u001b[32m    784\u001b[39m response_conn = conn \u001b[38;5;28;01mif\u001b[39;00m \u001b[38;5;129;01mnot\u001b[39;00m release_conn \u001b[38;5;28;01melse\u001b[39;00m \u001b[38;5;28;01mNone\u001b[39;00m\n\u001b[32m    786\u001b[39m \u001b[38;5;66;03m# Make the request on the HTTPConnection object\u001b[39;00m\n\u001b[32m--> \u001b[39m\u001b[32m787\u001b[39m response = \u001b[38;5;28;43mself\u001b[39;49m\u001b[43m.\u001b[49m\u001b[43m_make_request\u001b[49m\u001b[43m(\u001b[49m\n\u001b[32m    788\u001b[39m \u001b[43m    \u001b[49m\u001b[43mconn\u001b[49m\u001b[43m,\u001b[49m\n\u001b[32m    789\u001b[39m \u001b[43m    \u001b[49m\u001b[43mmethod\u001b[49m\u001b[43m,\u001b[49m\n\u001b[32m    790\u001b[39m \u001b[43m    \u001b[49m\u001b[43murl\u001b[49m\u001b[43m,\u001b[49m\n\u001b[32m    791\u001b[39m \u001b[43m    \u001b[49m\u001b[43mtimeout\u001b[49m\u001b[43m=\u001b[49m\u001b[43mtimeout_obj\u001b[49m\u001b[43m,\u001b[49m\n\u001b[32m    792\u001b[39m \u001b[43m    \u001b[49m\u001b[43mbody\u001b[49m\u001b[43m=\u001b[49m\u001b[43mbody\u001b[49m\u001b[43m,\u001b[49m\n\u001b[32m    793\u001b[39m \u001b[43m    \u001b[49m\u001b[43mheaders\u001b[49m\u001b[43m=\u001b[49m\u001b[43mheaders\u001b[49m\u001b[43m,\u001b[49m\n\u001b[32m    794\u001b[39m \u001b[43m    \u001b[49m\u001b[43mchunked\u001b[49m\u001b[43m=\u001b[49m\u001b[43mchunked\u001b[49m\u001b[43m,\u001b[49m\n\u001b[32m    795\u001b[39m \u001b[43m    \u001b[49m\u001b[43mretries\u001b[49m\u001b[43m=\u001b[49m\u001b[43mretries\u001b[49m\u001b[43m,\u001b[49m\n\u001b[32m    796\u001b[39m \u001b[43m    \u001b[49m\u001b[43mresponse_conn\u001b[49m\u001b[43m=\u001b[49m\u001b[43mresponse_conn\u001b[49m\u001b[43m,\u001b[49m\n\u001b[32m    797\u001b[39m \u001b[43m    \u001b[49m\u001b[43mpreload_content\u001b[49m\u001b[43m=\u001b[49m\u001b[43mpreload_content\u001b[49m\u001b[43m,\u001b[49m\n\u001b[32m    798\u001b[39m \u001b[43m    \u001b[49m\u001b[43mdecode_content\u001b[49m\u001b[43m=\u001b[49m\u001b[43mdecode_content\u001b[49m\u001b[43m,\u001b[49m\n\u001b[32m    799\u001b[39m \u001b[43m    \u001b[49m\u001b[43m*\u001b[49m\u001b[43m*\u001b[49m\u001b[43mresponse_kw\u001b[49m\u001b[43m,\u001b[49m\n\u001b[32m    800\u001b[39m \u001b[43m\u001b[49m\u001b[43m)\u001b[49m\n\u001b[32m    802\u001b[39m \u001b[38;5;66;03m# Everything went great!\u001b[39;00m\n\u001b[32m    803\u001b[39m clean_exit = \u001b[38;5;28;01mTrue\u001b[39;00m\n",
            "\u001b[36mFile \u001b[39m\u001b[32mc:\\Users\\pranav.r\\.pyenv\\pyenv-win\\versions\\3.11.9\\Lib\\site-packages\\urllib3\\connectionpool.py:464\u001b[39m, in \u001b[36mHTTPConnectionPool._make_request\u001b[39m\u001b[34m(self, conn, method, url, body, headers, retries, timeout, chunked, response_conn, preload_content, decode_content, enforce_content_length)\u001b[39m\n\u001b[32m    461\u001b[39m \u001b[38;5;28;01mtry\u001b[39;00m:\n\u001b[32m    462\u001b[39m     \u001b[38;5;66;03m# Trigger any extra validation we need to do.\u001b[39;00m\n\u001b[32m    463\u001b[39m     \u001b[38;5;28;01mtry\u001b[39;00m:\n\u001b[32m--> \u001b[39m\u001b[32m464\u001b[39m         \u001b[38;5;28;43mself\u001b[39;49m\u001b[43m.\u001b[49m\u001b[43m_validate_conn\u001b[49m\u001b[43m(\u001b[49m\u001b[43mconn\u001b[49m\u001b[43m)\u001b[49m\n\u001b[32m    465\u001b[39m     \u001b[38;5;28;01mexcept\u001b[39;00m (SocketTimeout, BaseSSLError) \u001b[38;5;28;01mas\u001b[39;00m e:\n\u001b[32m    466\u001b[39m         \u001b[38;5;28mself\u001b[39m._raise_timeout(err=e, url=url, timeout_value=conn.timeout)\n",
            "\u001b[36mFile \u001b[39m\u001b[32mc:\\Users\\pranav.r\\.pyenv\\pyenv-win\\versions\\3.11.9\\Lib\\site-packages\\urllib3\\connectionpool.py:1093\u001b[39m, in \u001b[36mHTTPSConnectionPool._validate_conn\u001b[39m\u001b[34m(self, conn)\u001b[39m\n\u001b[32m   1091\u001b[39m \u001b[38;5;66;03m# Force connect early to allow us to validate the connection.\u001b[39;00m\n\u001b[32m   1092\u001b[39m \u001b[38;5;28;01mif\u001b[39;00m conn.is_closed:\n\u001b[32m-> \u001b[39m\u001b[32m1093\u001b[39m     \u001b[43mconn\u001b[49m\u001b[43m.\u001b[49m\u001b[43mconnect\u001b[49m\u001b[43m(\u001b[49m\u001b[43m)\u001b[49m\n\u001b[32m   1095\u001b[39m \u001b[38;5;66;03m# TODO revise this, see https://github.com/urllib3/urllib3/issues/2791\u001b[39;00m\n\u001b[32m   1096\u001b[39m \u001b[38;5;28;01mif\u001b[39;00m \u001b[38;5;129;01mnot\u001b[39;00m conn.is_verified \u001b[38;5;129;01mand\u001b[39;00m \u001b[38;5;129;01mnot\u001b[39;00m conn.proxy_is_verified:\n",
            "\u001b[36mFile \u001b[39m\u001b[32mc:\\Users\\pranav.r\\.pyenv\\pyenv-win\\versions\\3.11.9\\Lib\\site-packages\\urllib3\\connection.py:790\u001b[39m, in \u001b[36mHTTPSConnection.connect\u001b[39m\u001b[34m(self)\u001b[39m\n\u001b[32m    787\u001b[39m     \u001b[38;5;66;03m# Remove trailing '.' from fqdn hostnames to allow certificate validation\u001b[39;00m\n\u001b[32m    788\u001b[39m     server_hostname_rm_dot = server_hostname.rstrip(\u001b[33m\"\u001b[39m\u001b[33m.\u001b[39m\u001b[33m\"\u001b[39m)\n\u001b[32m--> \u001b[39m\u001b[32m790\u001b[39m     sock_and_verified = \u001b[43m_ssl_wrap_socket_and_match_hostname\u001b[49m\u001b[43m(\u001b[49m\n\u001b[32m    791\u001b[39m \u001b[43m        \u001b[49m\u001b[43msock\u001b[49m\u001b[43m=\u001b[49m\u001b[43msock\u001b[49m\u001b[43m,\u001b[49m\n\u001b[32m    792\u001b[39m \u001b[43m        \u001b[49m\u001b[43mcert_reqs\u001b[49m\u001b[43m=\u001b[49m\u001b[38;5;28;43mself\u001b[39;49m\u001b[43m.\u001b[49m\u001b[43mcert_reqs\u001b[49m\u001b[43m,\u001b[49m\n\u001b[32m    793\u001b[39m \u001b[43m        \u001b[49m\u001b[43mssl_version\u001b[49m\u001b[43m=\u001b[49m\u001b[38;5;28;43mself\u001b[39;49m\u001b[43m.\u001b[49m\u001b[43mssl_version\u001b[49m\u001b[43m,\u001b[49m\n\u001b[32m    794\u001b[39m \u001b[43m        \u001b[49m\u001b[43mssl_minimum_version\u001b[49m\u001b[43m=\u001b[49m\u001b[38;5;28;43mself\u001b[39;49m\u001b[43m.\u001b[49m\u001b[43mssl_minimum_version\u001b[49m\u001b[43m,\u001b[49m\n\u001b[32m    795\u001b[39m \u001b[43m        \u001b[49m\u001b[43mssl_maximum_version\u001b[49m\u001b[43m=\u001b[49m\u001b[38;5;28;43mself\u001b[39;49m\u001b[43m.\u001b[49m\u001b[43mssl_maximum_version\u001b[49m\u001b[43m,\u001b[49m\n\u001b[32m    796\u001b[39m \u001b[43m        \u001b[49m\u001b[43mca_certs\u001b[49m\u001b[43m=\u001b[49m\u001b[38;5;28;43mself\u001b[39;49m\u001b[43m.\u001b[49m\u001b[43mca_certs\u001b[49m\u001b[43m,\u001b[49m\n\u001b[32m    797\u001b[39m \u001b[43m        \u001b[49m\u001b[43mca_cert_dir\u001b[49m\u001b[43m=\u001b[49m\u001b[38;5;28;43mself\u001b[39;49m\u001b[43m.\u001b[49m\u001b[43mca_cert_dir\u001b[49m\u001b[43m,\u001b[49m\n\u001b[32m    798\u001b[39m \u001b[43m        \u001b[49m\u001b[43mca_cert_data\u001b[49m\u001b[43m=\u001b[49m\u001b[38;5;28;43mself\u001b[39;49m\u001b[43m.\u001b[49m\u001b[43mca_cert_data\u001b[49m\u001b[43m,\u001b[49m\n\u001b[32m    799\u001b[39m \u001b[43m        \u001b[49m\u001b[43mcert_file\u001b[49m\u001b[43m=\u001b[49m\u001b[38;5;28;43mself\u001b[39;49m\u001b[43m.\u001b[49m\u001b[43mcert_file\u001b[49m\u001b[43m,\u001b[49m\n\u001b[32m    800\u001b[39m \u001b[43m        \u001b[49m\u001b[43mkey_file\u001b[49m\u001b[43m=\u001b[49m\u001b[38;5;28;43mself\u001b[39;49m\u001b[43m.\u001b[49m\u001b[43mkey_file\u001b[49m\u001b[43m,\u001b[49m\n\u001b[32m    801\u001b[39m \u001b[43m        \u001b[49m\u001b[43mkey_password\u001b[49m\u001b[43m=\u001b[49m\u001b[38;5;28;43mself\u001b[39;49m\u001b[43m.\u001b[49m\u001b[43mkey_password\u001b[49m\u001b[43m,\u001b[49m\n\u001b[32m    802\u001b[39m \u001b[43m        \u001b[49m\u001b[43mserver_hostname\u001b[49m\u001b[43m=\u001b[49m\u001b[43mserver_hostname_rm_dot\u001b[49m\u001b[43m,\u001b[49m\n\u001b[32m    803\u001b[39m \u001b[43m        \u001b[49m\u001b[43mssl_context\u001b[49m\u001b[43m=\u001b[49m\u001b[38;5;28;43mself\u001b[39;49m\u001b[43m.\u001b[49m\u001b[43mssl_context\u001b[49m\u001b[43m,\u001b[49m\n\u001b[32m    804\u001b[39m \u001b[43m        \u001b[49m\u001b[43mtls_in_tls\u001b[49m\u001b[43m=\u001b[49m\u001b[43mtls_in_tls\u001b[49m\u001b[43m,\u001b[49m\n\u001b[32m    805\u001b[39m \u001b[43m        \u001b[49m\u001b[43massert_hostname\u001b[49m\u001b[43m=\u001b[49m\u001b[38;5;28;43mself\u001b[39;49m\u001b[43m.\u001b[49m\u001b[43massert_hostname\u001b[49m\u001b[43m,\u001b[49m\n\u001b[32m    806\u001b[39m \u001b[43m        \u001b[49m\u001b[43massert_fingerprint\u001b[49m\u001b[43m=\u001b[49m\u001b[38;5;28;43mself\u001b[39;49m\u001b[43m.\u001b[49m\u001b[43massert_fingerprint\u001b[49m\u001b[43m,\u001b[49m\n\u001b[32m    807\u001b[39m \u001b[43m    \u001b[49m\u001b[43m)\u001b[49m\n\u001b[32m    808\u001b[39m     \u001b[38;5;28mself\u001b[39m.sock = sock_and_verified.socket\n\u001b[32m    810\u001b[39m \u001b[38;5;66;03m# If an error occurs during connection/handshake we may need to release\u001b[39;00m\n\u001b[32m    811\u001b[39m \u001b[38;5;66;03m# our lock so another connection can probe the origin.\u001b[39;00m\n",
            "\u001b[36mFile \u001b[39m\u001b[32mc:\\Users\\pranav.r\\.pyenv\\pyenv-win\\versions\\3.11.9\\Lib\\site-packages\\urllib3\\connection.py:969\u001b[39m, in \u001b[36m_ssl_wrap_socket_and_match_hostname\u001b[39m\u001b[34m(sock, cert_reqs, ssl_version, ssl_minimum_version, ssl_maximum_version, cert_file, key_file, key_password, ca_certs, ca_cert_dir, ca_cert_data, assert_hostname, assert_fingerprint, server_hostname, ssl_context, tls_in_tls)\u001b[39m\n\u001b[32m    966\u001b[39m     \u001b[38;5;28;01mif\u001b[39;00m is_ipaddress(normalized):\n\u001b[32m    967\u001b[39m         server_hostname = normalized\n\u001b[32m--> \u001b[39m\u001b[32m969\u001b[39m ssl_sock = \u001b[43mssl_wrap_socket\u001b[49m\u001b[43m(\u001b[49m\n\u001b[32m    970\u001b[39m \u001b[43m    \u001b[49m\u001b[43msock\u001b[49m\u001b[43m=\u001b[49m\u001b[43msock\u001b[49m\u001b[43m,\u001b[49m\n\u001b[32m    971\u001b[39m \u001b[43m    \u001b[49m\u001b[43mkeyfile\u001b[49m\u001b[43m=\u001b[49m\u001b[43mkey_file\u001b[49m\u001b[43m,\u001b[49m\n\u001b[32m    972\u001b[39m \u001b[43m    \u001b[49m\u001b[43mcertfile\u001b[49m\u001b[43m=\u001b[49m\u001b[43mcert_file\u001b[49m\u001b[43m,\u001b[49m\n\u001b[32m    973\u001b[39m \u001b[43m    \u001b[49m\u001b[43mkey_password\u001b[49m\u001b[43m=\u001b[49m\u001b[43mkey_password\u001b[49m\u001b[43m,\u001b[49m\n\u001b[32m    974\u001b[39m \u001b[43m    \u001b[49m\u001b[43mca_certs\u001b[49m\u001b[43m=\u001b[49m\u001b[43mca_certs\u001b[49m\u001b[43m,\u001b[49m\n\u001b[32m    975\u001b[39m \u001b[43m    \u001b[49m\u001b[43mca_cert_dir\u001b[49m\u001b[43m=\u001b[49m\u001b[43mca_cert_dir\u001b[49m\u001b[43m,\u001b[49m\n\u001b[32m    976\u001b[39m \u001b[43m    \u001b[49m\u001b[43mca_cert_data\u001b[49m\u001b[43m=\u001b[49m\u001b[43mca_cert_data\u001b[49m\u001b[43m,\u001b[49m\n\u001b[32m    977\u001b[39m \u001b[43m    \u001b[49m\u001b[43mserver_hostname\u001b[49m\u001b[43m=\u001b[49m\u001b[43mserver_hostname\u001b[49m\u001b[43m,\u001b[49m\n\u001b[32m    978\u001b[39m \u001b[43m    \u001b[49m\u001b[43mssl_context\u001b[49m\u001b[43m=\u001b[49m\u001b[43mcontext\u001b[49m\u001b[43m,\u001b[49m\n\u001b[32m    979\u001b[39m \u001b[43m    \u001b[49m\u001b[43mtls_in_tls\u001b[49m\u001b[43m=\u001b[49m\u001b[43mtls_in_tls\u001b[49m\u001b[43m,\u001b[49m\n\u001b[32m    980\u001b[39m \u001b[43m\u001b[49m\u001b[43m)\u001b[49m\n\u001b[32m    982\u001b[39m \u001b[38;5;28;01mtry\u001b[39;00m:\n\u001b[32m    983\u001b[39m     \u001b[38;5;28;01mif\u001b[39;00m assert_fingerprint:\n",
            "\u001b[36mFile \u001b[39m\u001b[32mc:\\Users\\pranav.r\\.pyenv\\pyenv-win\\versions\\3.11.9\\Lib\\site-packages\\urllib3\\util\\ssl_.py:480\u001b[39m, in \u001b[36mssl_wrap_socket\u001b[39m\u001b[34m(sock, keyfile, certfile, cert_reqs, ca_certs, server_hostname, ssl_version, ciphers, ssl_context, ca_cert_dir, key_password, ca_cert_data, tls_in_tls)\u001b[39m\n\u001b[32m    476\u001b[39m         context.load_cert_chain(certfile, keyfile, key_password)\n\u001b[32m    478\u001b[39m context.set_alpn_protocols(ALPN_PROTOCOLS)\n\u001b[32m--> \u001b[39m\u001b[32m480\u001b[39m ssl_sock = \u001b[43m_ssl_wrap_socket_impl\u001b[49m\u001b[43m(\u001b[49m\u001b[43msock\u001b[49m\u001b[43m,\u001b[49m\u001b[43m \u001b[49m\u001b[43mcontext\u001b[49m\u001b[43m,\u001b[49m\u001b[43m \u001b[49m\u001b[43mtls_in_tls\u001b[49m\u001b[43m,\u001b[49m\u001b[43m \u001b[49m\u001b[43mserver_hostname\u001b[49m\u001b[43m)\u001b[49m\n\u001b[32m    481\u001b[39m \u001b[38;5;28;01mreturn\u001b[39;00m ssl_sock\n",
            "\u001b[36mFile \u001b[39m\u001b[32mc:\\Users\\pranav.r\\.pyenv\\pyenv-win\\versions\\3.11.9\\Lib\\site-packages\\urllib3\\util\\ssl_.py:524\u001b[39m, in \u001b[36m_ssl_wrap_socket_impl\u001b[39m\u001b[34m(sock, ssl_context, tls_in_tls, server_hostname)\u001b[39m\n\u001b[32m    521\u001b[39m     SSLTransport._validate_ssl_context_for_tls_in_tls(ssl_context)\n\u001b[32m    522\u001b[39m     \u001b[38;5;28;01mreturn\u001b[39;00m SSLTransport(sock, ssl_context, server_hostname)\n\u001b[32m--> \u001b[39m\u001b[32m524\u001b[39m \u001b[38;5;28;01mreturn\u001b[39;00m \u001b[43mssl_context\u001b[49m\u001b[43m.\u001b[49m\u001b[43mwrap_socket\u001b[49m\u001b[43m(\u001b[49m\u001b[43msock\u001b[49m\u001b[43m,\u001b[49m\u001b[43m \u001b[49m\u001b[43mserver_hostname\u001b[49m\u001b[43m=\u001b[49m\u001b[43mserver_hostname\u001b[49m\u001b[43m)\u001b[49m\n",
            "\u001b[36mFile \u001b[39m\u001b[32mc:\\Users\\pranav.r\\.pyenv\\pyenv-win\\versions\\3.11.9\\Lib\\ssl.py:517\u001b[39m, in \u001b[36mSSLContext.wrap_socket\u001b[39m\u001b[34m(self, sock, server_side, do_handshake_on_connect, suppress_ragged_eofs, server_hostname, session)\u001b[39m\n\u001b[32m    511\u001b[39m \u001b[38;5;28;01mdef\u001b[39;00m\u001b[38;5;250m \u001b[39m\u001b[34mwrap_socket\u001b[39m(\u001b[38;5;28mself\u001b[39m, sock, server_side=\u001b[38;5;28;01mFalse\u001b[39;00m,\n\u001b[32m    512\u001b[39m                 do_handshake_on_connect=\u001b[38;5;28;01mTrue\u001b[39;00m,\n\u001b[32m    513\u001b[39m                 suppress_ragged_eofs=\u001b[38;5;28;01mTrue\u001b[39;00m,\n\u001b[32m    514\u001b[39m                 server_hostname=\u001b[38;5;28;01mNone\u001b[39;00m, session=\u001b[38;5;28;01mNone\u001b[39;00m):\n\u001b[32m    515\u001b[39m     \u001b[38;5;66;03m# SSLSocket class handles server_hostname encoding before it calls\u001b[39;00m\n\u001b[32m    516\u001b[39m     \u001b[38;5;66;03m# ctx._wrap_socket()\u001b[39;00m\n\u001b[32m--> \u001b[39m\u001b[32m517\u001b[39m     \u001b[38;5;28;01mreturn\u001b[39;00m \u001b[38;5;28;43mself\u001b[39;49m\u001b[43m.\u001b[49m\u001b[43msslsocket_class\u001b[49m\u001b[43m.\u001b[49m\u001b[43m_create\u001b[49m\u001b[43m(\u001b[49m\n\u001b[32m    518\u001b[39m \u001b[43m        \u001b[49m\u001b[43msock\u001b[49m\u001b[43m=\u001b[49m\u001b[43msock\u001b[49m\u001b[43m,\u001b[49m\n\u001b[32m    519\u001b[39m \u001b[43m        \u001b[49m\u001b[43mserver_side\u001b[49m\u001b[43m=\u001b[49m\u001b[43mserver_side\u001b[49m\u001b[43m,\u001b[49m\n\u001b[32m    520\u001b[39m \u001b[43m        \u001b[49m\u001b[43mdo_handshake_on_connect\u001b[49m\u001b[43m=\u001b[49m\u001b[43mdo_handshake_on_connect\u001b[49m\u001b[43m,\u001b[49m\n\u001b[32m    521\u001b[39m \u001b[43m        \u001b[49m\u001b[43msuppress_ragged_eofs\u001b[49m\u001b[43m=\u001b[49m\u001b[43msuppress_ragged_eofs\u001b[49m\u001b[43m,\u001b[49m\n\u001b[32m    522\u001b[39m \u001b[43m        \u001b[49m\u001b[43mserver_hostname\u001b[49m\u001b[43m=\u001b[49m\u001b[43mserver_hostname\u001b[49m\u001b[43m,\u001b[49m\n\u001b[32m    523\u001b[39m \u001b[43m        \u001b[49m\u001b[43mcontext\u001b[49m\u001b[43m=\u001b[49m\u001b[38;5;28;43mself\u001b[39;49m\u001b[43m,\u001b[49m\n\u001b[32m    524\u001b[39m \u001b[43m        \u001b[49m\u001b[43msession\u001b[49m\u001b[43m=\u001b[49m\u001b[43msession\u001b[49m\n\u001b[32m    525\u001b[39m \u001b[43m    \u001b[49m\u001b[43m)\u001b[49m\n",
            "\u001b[36mFile \u001b[39m\u001b[32mc:\\Users\\pranav.r\\.pyenv\\pyenv-win\\versions\\3.11.9\\Lib\\ssl.py:1104\u001b[39m, in \u001b[36mSSLSocket._create\u001b[39m\u001b[34m(cls, sock, server_side, do_handshake_on_connect, suppress_ragged_eofs, server_hostname, context, session)\u001b[39m\n\u001b[32m   1101\u001b[39m             \u001b[38;5;28;01mif\u001b[39;00m timeout == \u001b[32m0.0\u001b[39m:\n\u001b[32m   1102\u001b[39m                 \u001b[38;5;66;03m# non-blocking\u001b[39;00m\n\u001b[32m   1103\u001b[39m                 \u001b[38;5;28;01mraise\u001b[39;00m \u001b[38;5;167;01mValueError\u001b[39;00m(\u001b[33m\"\u001b[39m\u001b[33mdo_handshake_on_connect should not be specified for non-blocking sockets\u001b[39m\u001b[33m\"\u001b[39m)\n\u001b[32m-> \u001b[39m\u001b[32m1104\u001b[39m             \u001b[38;5;28;43mself\u001b[39;49m\u001b[43m.\u001b[49m\u001b[43mdo_handshake\u001b[49m\u001b[43m(\u001b[49m\u001b[43m)\u001b[49m\n\u001b[32m   1105\u001b[39m \u001b[38;5;28;01mexcept\u001b[39;00m:\n\u001b[32m   1106\u001b[39m     \u001b[38;5;28;01mtry\u001b[39;00m:\n",
            "\u001b[36mFile \u001b[39m\u001b[32mc:\\Users\\pranav.r\\.pyenv\\pyenv-win\\versions\\3.11.9\\Lib\\ssl.py:1382\u001b[39m, in \u001b[36mSSLSocket.do_handshake\u001b[39m\u001b[34m(self, block)\u001b[39m\n\u001b[32m   1380\u001b[39m     \u001b[38;5;28;01mif\u001b[39;00m timeout == \u001b[32m0.0\u001b[39m \u001b[38;5;129;01mand\u001b[39;00m block:\n\u001b[32m   1381\u001b[39m         \u001b[38;5;28mself\u001b[39m.settimeout(\u001b[38;5;28;01mNone\u001b[39;00m)\n\u001b[32m-> \u001b[39m\u001b[32m1382\u001b[39m     \u001b[38;5;28;43mself\u001b[39;49m\u001b[43m.\u001b[49m\u001b[43m_sslobj\u001b[49m\u001b[43m.\u001b[49m\u001b[43mdo_handshake\u001b[49m\u001b[43m(\u001b[49m\u001b[43m)\u001b[49m\n\u001b[32m   1383\u001b[39m \u001b[38;5;28;01mfinally\u001b[39;00m:\n\u001b[32m   1384\u001b[39m     \u001b[38;5;28mself\u001b[39m.settimeout(timeout)\n",
            "\u001b[31mKeyboardInterrupt\u001b[39m: "
          ]
        }
      ],
      "source": [
        "ship_class = 'LNG'\n",
        "region = 'Greece'\n",
        "exclusion_list = ''\n",
        "# Build and Run Crew\n",
        "inputs = {\n",
        "\t\t\t\t\t'ship_class': ship_class,\n",
        "\t\t\t\t\t'region': region,\n",
        "\t\t\t\t\t'exclusion_list': ''\n",
        "\t\t\t}\n",
        "# Build and Run Crew\n",
        "crew = Crew(\n",
        "\tagents=[lead_researcher, review_agent, strategy_developer, process_manager],\n",
        "\ttasks=[initial_research, lead_review, strategy_formulation, process_oversight],\n",
        "\tprocess=Process.hierarchical,\n",
        "\tmanager_llm= 'azure/gpt-4.1',\n",
        "\tverbose=True,\n",
        "\tfull_output=False,\n",
        ")\n",
        "\n",
        "#existing_file_path = '/Workspace/Users/pranav.r@synergyship.com/Leads_Results.docx'\n",
        "result = crew.kickoff(inputs=inputs);\n",
        "if hasattr(result, 'raw'):\n",
        "\t# Access the raw output of the CrewOutput object\n",
        "\tprint(\"Raw Output:\")\n",
        "\tcrew_output_raw = result.raw\n",
        "\tprint(crew_output_raw)\n",
        "if hasattr(result, 'json'):\n",
        "\t# If the output is in JSON format, access it accordingly\n",
        "\t# Raw output as a string or JSON\n",
        "\tprint(\"JSON Output:\")\n",
        "\tcrew_output_json = result.json\n",
        "\tprint(crew_output_json)\n"
      ]
    },
    {
      "cell_type": "code",
      "execution_count": 65,
      "id": "fe5fd92a",
      "metadata": {
        "vscode": {
          "languageId": "ruby"
        }
      },
      "outputs": [
        {
          "data": {
            "text/plain": [
              "<OutputFormat.JSON: 'json'>"
            ]
          },
          "execution_count": 65,
          "metadata": {},
          "output_type": "execute_result"
        }
      ],
      "source": [
        "result.tasks_output[3].output_format"
      ]
    },
    {
      "cell_type": "code",
      "execution_count": 70,
      "id": "b5475070",
      "metadata": {
        "vscode": {
          "languageId": "ruby"
        }
      },
      "outputs": [
        {
          "data": {
            "text/plain": [
              "'{\"status\": \"needs_revision\", \"validated_leads\": {\"count\": 10, \"items\": [{\"name\": \"BW LPG\", \"headquarters\": {\"location\": \"Oslo, Norway (listed), Singapore (HQ)\", \"region\": \"Northern Europe\", \"matches_target_region\": true, \"regional_presence\": [\"Oslo\", \"Northern Europe\", \"Global\"]}, \"fleet\": {\"size\": 53, \"types\": [{\"type\": \"Very Large Gas Carriers (VLGCs) \\\\u2013 LPG\", \"count\": 53}]}, \"strategic_fit\": {\"score\": 9, \"strengths\": [\"World\\\\u2019s largest VLGC (LPG) fleet\", \"Aggressive fleet expansion and modernization\", \"Significant institutional/family ownership with long-term perspective\", \"Highly focused on sustainability and digitalization\"], \"service_matches\": [\"Crew Management\", \"Technical Management\", \"Newbuild Support\", \"Digital Operations\"]}, \"strategy\": {\"approach\": \"Target C-level executives via Oslo/Nor-Shipping/Gastech events, direct board introductions. Pitch Synergy\\\\u2019s proven digital-first management, decarbonization expertise, and global LPG/newbuild management.\", \"timeline\": \"Initiate outreach Q2 2024; propose technical/operational workshop within 4 weeks of first contact; board-level pitch before 2024 year-end.\", \"key_differentiators\": [\"Ship Management 2.0 (advanced digital solutions)\", \"Track record with industry\\\\u2019s top operators\", \"Proven success onboarding newbuilds/LPGs\", \"Decarbonization and regulatory compliance expertise\"]}, \"link\": \"https://www.bwlpg.com/\"}, {\"name\": \"EXMAR Shipmanagement NV\", \"headquarters\": {\"location\": \"Antwerp, Belgium\", \"region\": \"Northern Europe\", \"matches_target_region\": true, \"regional_presence\": [\"Belgium\", \"Northern Europe\", \"Global\"]}, \"fleet\": {\"size\": 20, \"types\": [{\"type\": \"LPG/LNG Carriers (VLGCs, midsize, floating platforms)\", \"count\": 20}]}, \"strategic_fit\": {\"score\": 8, \"strengths\": [\"Core focus on LPG/LNG vessels\", \"Leading in newbuilds and alternative fuel transitions\", \"Experienced in technically advanced and specialty gas ships\", \"Strong European regulatory compliance\"], \"service_matches\": [\"Crew Management\", \"Technical Management\", \"Retrofit/Newbuild Integration\"]}, \"strategy\": {\"approach\": \"Leverage C-level introductions from industry events and mutual contacts; emphasize Synergy\\\\u2019s hybrid management for gas newbuilds, regulatory compliance, and crew training centers.\", \"timeline\": \"Target initial engagement by Q2 2024; offer joint technical workshops by Q3; invite to digital management demo by Q4 2024.\", \"key_differentiators\": [\"Specialist training centers for gas/LPG/LNG crews\", \"Flexibility for rapid newbuild/fleet transitions\", \"Proven compliance (EU ETS, EEXI/CII)\", \"Cost efficiency with advanced digital integration\"]}, \"link\": \"https://www.exmar.be/\"}, {\"name\": \"Diana Shipping Inc. / Ecogas Holding (JV with Tradewind Tankers)\", \"headquarters\": {\"location\": \"Athens, Greece (Northern Europe via JV)\", \"region\": \"Northern Europe (JV basis)\", \"matches_target_region\": true, \"regional_presence\": [\"Greece\", \"Northern Europe (via JV)\", \"Global\"]}, \"fleet\": {\"size\": 45, \"types\": [{\"type\": \"Bulk Carriers\", \"count\": 40}, {\"type\": \"LPG Carriers (Ecogas JV)\", \"count\": 5}]}, \"strategic_fit\": {\"score\": 7, \"strengths\": [\"Entering LPG market (new segment)\", \"JV boosts reach into Northern Europe\", \"Large Greek flagship owner with global influence\", \"Need for expertise in gas segment onboarding\"], \"service_matches\": [\"Crew Management\", \"Technical Management\", \"Newbuild/Vessel Startup\"]}, \"strategy\": {\"approach\": \"Direct introduction to Diana Shipping and JV managers via Greek/Northern Europe shipping forums; propose Synergy\\\\u2019s end-to-end newbuild and crewing solutions, backed by LPG segment expertise.\", \"timeline\": \"Initiate contact immediately; set up technical workshop for JV by July 2024; offer phased onboarding plan in Q3 2024.\", \"key_differentiators\": [\"First-mover support for new LPG operators\", \"Comprehensive newbuild/joint venture management experience\", \"End-to-end crewing/ops onboarding\", \"Digital/transparent transition support\"]}, \"link\": \"https://www.dianashippinginc.com/\"}]}, \"region_mismatch_leads\": [], \"requested_alternates\": {\"count\": 7, \"criteria\": \"Ship owners/operators with headquarters or significant presence in Northern Europe, minimum fleet size of 5, strategic fit with Synergy\\\\u2019s crew and technical management services. Priority for companies expanding LPG/gas, chemical, or bulk carrier fleets within the region.\", \"from_agent\": \"lead_researcher\"}, \"ranking_metrics\": {\"average_fit_score\": 8.0, \"regional_compliance_rate\": 1.0, \"service_alignment_distribution\": {\"crew_management\": 3, \"technical_management\": 3}}, \"metadata\": {\"original_region_request\": \"Northern Europe\", \"validation_date\": \"2024-06-13T12:00:00Z\", \"llm_used\": \"azure/gpt-4.1\", \"lead_count_validation\": {\"expected\": 10, \"actual\": 10, \"compliance\": true}}}'"
            ]
          },
          "execution_count": 70,
          "metadata": {},
          "output_type": "execute_result"
        }
      ],
      "source": [
        "result.tasks_output[3].json"
      ]
    },
    {
      "cell_type": "code",
      "execution_count": 103,
      "id": "4361a028",
      "metadata": {
        "vscode": {
          "languageId": "ruby"
        }
      },
      "outputs": [],
      "source": [
        "import json\n",
        "leads_data = json.loads(result.json)  # result is a Pydantic model instance\n",
        "leads=leads_data['validated_leads']['items']"
      ]
    },
    {
      "cell_type": "code",
      "execution_count": 104,
      "id": "4eb43ccb",
      "metadata": {
        "vscode": {
          "languageId": "ruby"
        }
      },
      "outputs": [
        {
          "data": {
            "text/plain": [
              "[{'name': 'BW LPG',\n",
              "  'headquarters': {'location': 'Oslo, Norway (listed), Singapore (HQ)',\n",
              "   'region': 'Northern Europe',\n",
              "   'matches_target_region': True,\n",
              "   'regional_presence': ['Oslo', 'Northern Europe', 'Global']},\n",
              "  'fleet': {'size': 53,\n",
              "   'types': [{'type': 'Very Large Gas Carriers (VLGCs) – LPG', 'count': 53}]},\n",
              "  'strategic_fit': {'score': 9,\n",
              "   'strengths': ['World’s largest VLGC (LPG) fleet',\n",
              "    'Aggressive fleet expansion and modernization',\n",
              "    'Significant institutional/family ownership with long-term perspective',\n",
              "    'Highly focused on sustainability and digitalization'],\n",
              "   'service_matches': ['Crew Management',\n",
              "    'Technical Management',\n",
              "    'Newbuild Support',\n",
              "    'Digital Operations']},\n",
              "  'strategy': {'approach': 'Target C-level executives via Oslo/Nor-Shipping/Gastech events, direct board introductions. Pitch Synergy’s proven digital-first management, decarbonization expertise, and global LPG/newbuild management.',\n",
              "   'timeline': 'Initiate outreach Q2 2024; propose technical/operational workshop within 4 weeks of first contact; board-level pitch before 2024 year-end.',\n",
              "   'key_differentiators': ['Ship Management 2.0 (advanced digital solutions)',\n",
              "    'Track record with industry’s top operators',\n",
              "    'Proven success onboarding newbuilds/LPGs',\n",
              "    'Decarbonization and regulatory compliance expertise']},\n",
              "  'link': 'https://www.bwlpg.com/'},\n",
              " {'name': 'EXMAR Shipmanagement NV',\n",
              "  'headquarters': {'location': 'Antwerp, Belgium',\n",
              "   'region': 'Northern Europe',\n",
              "   'matches_target_region': True,\n",
              "   'regional_presence': ['Belgium', 'Northern Europe', 'Global']},\n",
              "  'fleet': {'size': 20,\n",
              "   'types': [{'type': 'LPG/LNG Carriers (VLGCs, midsize, floating platforms)',\n",
              "     'count': 20}]},\n",
              "  'strategic_fit': {'score': 8,\n",
              "   'strengths': ['Core focus on LPG/LNG vessels',\n",
              "    'Leading in newbuilds and alternative fuel transitions',\n",
              "    'Experienced in technically advanced and specialty gas ships',\n",
              "    'Strong European regulatory compliance'],\n",
              "   'service_matches': ['Crew Management',\n",
              "    'Technical Management',\n",
              "    'Retrofit/Newbuild Integration']},\n",
              "  'strategy': {'approach': 'Leverage C-level introductions from industry events and mutual contacts; emphasize Synergy’s hybrid management for gas newbuilds, regulatory compliance, and crew training centers.',\n",
              "   'timeline': 'Target initial engagement by Q2 2024; offer joint technical workshops by Q3; invite to digital management demo by Q4 2024.',\n",
              "   'key_differentiators': ['Specialist training centers for gas/LPG/LNG crews',\n",
              "    'Flexibility for rapid newbuild/fleet transitions',\n",
              "    'Proven compliance (EU ETS, EEXI/CII)',\n",
              "    'Cost efficiency with advanced digital integration']},\n",
              "  'link': 'https://www.exmar.be/'},\n",
              " {'name': 'Diana Shipping Inc. / Ecogas Holding (JV with Tradewind Tankers)',\n",
              "  'headquarters': {'location': 'Athens, Greece (Northern Europe via JV)',\n",
              "   'region': 'Northern Europe (JV basis)',\n",
              "   'matches_target_region': True,\n",
              "   'regional_presence': ['Greece', 'Northern Europe (via JV)', 'Global']},\n",
              "  'fleet': {'size': 45,\n",
              "   'types': [{'type': 'Bulk Carriers', 'count': 40},\n",
              "    {'type': 'LPG Carriers (Ecogas JV)', 'count': 5}]},\n",
              "  'strategic_fit': {'score': 7,\n",
              "   'strengths': ['Entering LPG market (new segment)',\n",
              "    'JV boosts reach into Northern Europe',\n",
              "    'Large Greek flagship owner with global influence',\n",
              "    'Need for expertise in gas segment onboarding'],\n",
              "   'service_matches': ['Crew Management',\n",
              "    'Technical Management',\n",
              "    'Newbuild/Vessel Startup']},\n",
              "  'strategy': {'approach': 'Direct introduction to Diana Shipping and JV managers via Greek/Northern Europe shipping forums; propose Synergy’s end-to-end newbuild and crewing solutions, backed by LPG segment expertise.',\n",
              "   'timeline': 'Initiate contact immediately; set up technical workshop for JV by July 2024; offer phased onboarding plan in Q3 2024.',\n",
              "   'key_differentiators': ['First-mover support for new LPG operators',\n",
              "    'Comprehensive newbuild/joint venture management experience',\n",
              "    'End-to-end crewing/ops onboarding',\n",
              "    'Digital/transparent transition support']},\n",
              "  'link': 'https://www.dianashippinginc.com/'}]"
            ]
          },
          "execution_count": 104,
          "metadata": {},
          "output_type": "execute_result"
        }
      ],
      "source": [
        "leads"
      ]
    },
    {
      "cell_type": "code",
      "execution_count": 71,
      "id": "e96bfdbc",
      "metadata": {
        "vscode": {
          "languageId": "ruby"
        }
      },
      "outputs": [],
      "source": [
        "owners_ids = {'Amine':22484151,'Prabhu':15645168,'Karthik':21576662,'Admin':22966424}"
      ]
    },
    {
      "cell_type": "code",
      "execution_count": 79,
      "id": "27270c7d",
      "metadata": {
        "vscode": {
          "languageId": "ruby"
        }
      },
      "outputs": [],
      "source": [
        "# Pipedrive integration\n",
        "import requests\n",
        "PIPEDRIVE_API_TOKEN = '7270c2d903c17226eef5e148fb214fba6c956a13'\n",
        "owner_id = owners_ids['Karthik']\n",
        "channel_id = 612"
      ]
    },
    {
      "cell_type": "code",
      "execution_count": 73,
      "id": "634bab59",
      "metadata": {
        "vscode": {
          "languageId": "ruby"
        }
      },
      "outputs": [
        {
          "data": {
            "text/plain": [
              "'2025-06-11'"
            ]
          },
          "execution_count": 73,
          "metadata": {},
          "output_type": "execute_result"
        }
      ],
      "source": [
        "from datetime import datetime\n",
        "\n",
        "# Get current date and time\n",
        "current_time = datetime.now()\n",
        "\n",
        "# Format time as ISO 8601 date\n",
        "formatted_time = current_time.strftime(\"%Y-%m-%d\")\n",
        "\n",
        "formatted_time"
      ]
    },
    {
      "cell_type": "code",
      "execution_count": 91,
      "id": "b6b03e79",
      "metadata": {
        "vscode": {
          "languageId": "ruby"
        }
      },
      "outputs": [],
      "source": [
        "leads = result.json"
      ]
    },
    {
      "cell_type": "code",
      "execution_count": 86,
      "id": "e42c678d",
      "metadata": {
        "vscode": {
          "languageId": "ruby"
        }
      },
      "outputs": [],
      "source": [
        "def create_organization(lead):\n",
        "    \"\"\"Create a new organization in Pipedrive with address as a custom field\"\"\"\n",
        "    organization = lead['name']\n",
        "    headquarters = lead.get('headquarters', '')\n",
        "    \n",
        "    # First, check if the address custom field exists\n",
        "    custom_fields = requests.get(\n",
        "        'https://api.pipedrive.com/v1/organizationFields',\n",
        "        params={'api_token': PIPEDRIVE_API_TOKEN}\n",
        "    )\n",
        "    \n",
        "    address_field_id = None\n",
        "    if custom_fields.status_code == 200:\n",
        "        for field in custom_fields.json()['data']:\n",
        "            if field['name'].lower() == 'address':\n",
        "                address_field_id = field['key']\n",
        "                break\n",
        "    \n",
        "    # Prepare organization data with custom field\n",
        "    org_data = {\n",
        "        'name': organization,\n",
        "        'add_time': formatted_time,\n",
        "    }\n",
        "    \n",
        "    # Add address if custom field exists\n",
        "    if address_field_id:\n",
        "        org_data[address_field_id] = headquarters\n",
        "    \n",
        "    # Make POST request to create organization\n",
        "    response = requests.post(\n",
        "        'https://api.pipedrive.com/v1/organizations',\n",
        "        json=org_data,\n",
        "        params={'api_token': PIPEDRIVE_API_TOKEN}\n",
        "    )\n",
        "    \n",
        "    # Check if request was successful\n",
        "    if response.status_code == 201:\n",
        "        organization_id = response.json()['data']['id']\n",
        "        print(f\"Organization '{organization}' created successfully with ID: {organization_id}\")\n",
        "        return organization_id\n",
        "    else:\n",
        "        print(f\"Error creating organization: {response.status_code}\")\n",
        "        print(response.text)\n",
        "        return None"
      ]
    },
    {
      "cell_type": "code",
      "execution_count": 87,
      "id": "5d2d74ae",
      "metadata": {
        "vscode": {
          "languageId": "ruby"
        }
      },
      "outputs": [],
      "source": [
        "def organization_exists(organization):\n",
        "\t# Check if organization exists\n",
        "\tresponse = requests.get(\n",
        "\t\t'https://api.pipedrive.com/v1/organizations/find',\n",
        "\t\tparams={'term': organization, 'api_token': PIPEDRIVE_API_TOKEN}\n",
        "\t)\n",
        "\tprint(f\"Checking if organization '{organization}' exists...\",organization)\n",
        "\tif response.status_code == 200:\n",
        "\t\tdata = response.json()\n",
        "\t\tif data['data']:\n",
        "\t\t\tprint(f\"Organization '{organization}' already exists\")\n",
        "\t\t\treturn data['data'][0]['id']  # Return the ID of the existing organization\n",
        "\t\telse:\n",
        "\t\t\tprint(f\"Organization '{organization}' does not exist\")\n",
        "\t\t\treturn None\n",
        "\telse:\n",
        "\t\t#print(f\"Error checking organization: {response.status_code}\")\n",
        "\t\t#print(response.text)\n",
        "\t\treturn None"
      ]
    },
    {
      "cell_type": "code",
      "execution_count": 76,
      "id": "12cf359a",
      "metadata": {
        "vscode": {
          "languageId": "ruby"
        }
      },
      "outputs": [],
      "source": [
        "def create_note_content(content):\n",
        "    try:\n",
        "        # Validate required keys exist\n",
        "        required_keys = ['name', 'headquarters', 'fleet', 'strategic_fit', 'strategy', 'link']\n",
        "        for key in required_keys:\n",
        "            if key not in content:\n",
        "                raise KeyError(f\"Missing required key: {key}\")\n",
        "\n",
        "        note_content = f\"\"\"# Company Overview: {content['name']}\n",
        "        \n",
        "📍 **Headquarters:**\n",
        "{content['headquarters']}\n",
        "\n",
        "🚢 **Fleet:**\n",
        "{content['fleet']}\n",
        "\n",
        "⭐ **Strategic Fit:**\n",
        "{content['strategic_fit']}\n",
        "\n",
        "📈 **Strategy:**\n",
        "{content['strategy']}\n",
        "\n",
        "🔗 **Reference Link:**\n",
        "{content['link']}\"\"\"\n",
        "\n",
        "        return note_content.strip()  # Remove trailing whitespace\n",
        "\n",
        "    except Exception as e:\n",
        "        print(f\"Error creating note content: {str(e)}\")\n",
        "        return None"
      ]
    },
    {
      "cell_type": "code",
      "execution_count": 77,
      "id": "bc181b3e",
      "metadata": {
        "vscode": {
          "languageId": "ruby"
        }
      },
      "outputs": [
        {
          "data": {
            "text/plain": [
              "{'status': 'success',\n",
              " 'leads': [{'company_name': 'BW LPG',\n",
              "   'website': 'https://www.bwlpg.com/',\n",
              "   'fleet_size': 53,\n",
              "   'ship_class_specialization': 'Very Large Gas Carriers (VLGCs) – LPG Shipping',\n",
              "   'operational_region': 'Global, with Northern European presence (listed in Oslo, offices worldwide)',\n",
              "   'recent_activity': 'Major fleet expansion in 2024 with acquisition of 12 VLGCs from Avance Gas, increasing total to 53; sustained newbuild deliveries and acquisitions; focus on decarbonization and technology-driven fleet renewal.',\n",
              "   'management_needs': 'Likely to seek advanced technical management, crewing solutions, newbuild support, and digital operational efficiency, especially as the fleet grows with newer and more technologically advanced vessels.',\n",
              "   'key_decision_makers': [{'name': 'Anders Onarheim',\n",
              "     'position': 'Chief Executive Officer',\n",
              "     'contact_info': None},\n",
              "    {'name': 'Elaine Ong',\n",
              "     'position': 'Chief Financial Officer',\n",
              "     'contact_info': None},\n",
              "    {'name': 'Christian Ringvold',\n",
              "     'position': 'Head of Commercial Operations',\n",
              "     'contact_info': None}],\n",
              "   'company_structure': 'Publicly listed (Oslo Stock Exchange, also New York Stock Exchange since 2024); part of the broader BW Group with significant institutional and family (Sohmen Pao Family) shareholding.',\n",
              "   'potential_opportunities': 'As the world’s largest VLGC/LPG ship owner with ongoing newbuild and retrofitting programmes, BW LPG presents significant opportunities for Synergy Marine Group to offer comprehensive technical management and crewing services focused on sustainability, digitalization, and operational efficiency across a modernizing fleet.'},\n",
              "  {'company_name': 'EXMAR Shipmanagement NV',\n",
              "   'website': 'https://www.exmar.be/',\n",
              "   'fleet_size': '20+ (LPG, LNG, and related gas ships – see website for current list)',\n",
              "   'ship_class_specialization': 'LPG, LNG, and floating storage/production; includes VLGCs',\n",
              "   'operational_region': 'Headquartered in Belgium; operational focus on Northern Europe and global gas shipping routes',\n",
              "   'recent_activity': 'Active in newbuild projects, notably large and mid-size LPG and LNG carriers, several recent vessel deliveries, and ongoing investments in advanced gas-handling technology.',\n",
              "   'management_needs': 'Potential needs for technical management, fleet crewing, especially with newbuild integration and vessel retrofitting for alternative fuels.',\n",
              "   'key_decision_makers': [{'name': 'Francis Mottrie',\n",
              "     'position': 'CEO',\n",
              "     'contact_info': None},\n",
              "    {'name': 'Paul Young', 'position': 'COO', 'contact_info': None}],\n",
              "   'company_structure': 'Subsidiary within EXMAR NV group; mid-sized public company with specialized focus on gas shipping, FSRU/FLNG projects.',\n",
              "   'potential_opportunities': 'Emerging opportunities for Synergy Marine Group to provide crew and technical management on newbuilds, especially as EXMAR expands mid-size VLGC and floating infrastructure fleet in Europe and globally.'},\n",
              "  {'company_name': 'Diana Shipping Inc. / Ecogas Holding (JV with Tradewind Tankers)',\n",
              "   'website': 'https://www.dianashippinginc.com/',\n",
              "   'fleet_size': '45+ vessels across segments; LPG newbuilds as part of Ecogas JV',\n",
              "   'ship_class_specialization': 'Bulk carriers with new LPG carrier segment (JV involvement)',\n",
              "   'operational_region': 'Greece (Northern Europe focus via JV); global operations',\n",
              "   'recent_activity': 'Entered LPG market via Ecogas Holding JV in 2024; investing in newbuild LPG carriers for diversified fleet expansion.',\n",
              "   'management_needs': 'Lack of historical LPG operational experience suggests need for external technical management, crewing solutions, and newbuild support.',\n",
              "   'key_decision_makers': [{'name': 'Semiramis Paliou',\n",
              "     'position': 'CEO (Diana Shipping)',\n",
              "     'contact_info': None},\n",
              "    {'name': 'Key Ecogas JV Contacts – see Tradewind Tankers',\n",
              "     'position': 'JV Management',\n",
              "     'contact_info': None}],\n",
              "   'company_structure': 'Publicly traded Greek shipowner; expanded into LPG via cross-holding JV with Tradewind Tankers (Ecogas Holding).',\n",
              "   'potential_opportunities': 'Excellent prospect for Synergy Marine Group to offer integrated services as Diana Shipping moves into LPG – particularly given their need for specialist LPG technical/crew management expertise for newbuild integration.'}],\n",
              " 'metadata': {'total_results': 3,\n",
              "  'search_parameters': {'ship_class': 'LPG carriers (VLGC, mid-size, and newbuilds)',\n",
              "   'region': 'Northern Europe (with global operations focus)'},\n",
              "  'date_conducted': datetime.date(2024, 6, 13)}}"
            ]
          },
          "execution_count": 77,
          "metadata": {},
          "output_type": "execute_result"
        }
      ],
      "source": [
        "result.tasks_output[0].json_dict"
      ]
    },
    {
      "cell_type": "code",
      "execution_count": 79,
      "id": "e5ccbf20",
      "metadata": {
        "vscode": {
          "languageId": "ruby"
        }
      },
      "outputs": [
        {
          "name": "stdout",
          "output_type": "stream",
          "text": [
            "Processing organization: Tidewater Inc.\n",
            ",Checking if organization 'Tidewater Inc.' exists... Tidewater Inc.\n",
            ",Organization 'Tidewater Inc.' does not exist\n",
            ",Create organization: Tidewater Inc.\n",
            ",Organization 'Tidewater Inc.' created successfully with ID: 3854\n",
            ",Lead 'Tidewater Inc.' created successfully\n",
            ",Lead ID: 136e6d90-3d1f-11f0-8085-b3a2a921474b\n",
            ",Successfully added company overview note\n",
            ",{'success': True, 'data': {'id': 1022, 'user_id': 22966424, 'deal_id': None, 'person_id': None, 'org_id': 3854, 'lead_id': '136e6d90-3d1f-11f0-8085-b3a2a921474b', 'content': '# Company Overview: Tidewater Inc.<br />\\n<br />\\n📍 **Headquarters:**<br />\\nHouston, Texas, USA (Northern Europe operations base)<br />\\n<br />\\n🚢 **Fleet:**<br />\\nOver 200 vessels globally; 52 PSVs in Northern Europe after Solstad acquisition; 14 battery hybrid and 2 LNG PSVs in latest newbuild wave<br />\\n<br />\\n⭐ **Strategic Fit:**<br />\\nRapidly expanded North Sea PSV fleet creates demand for crew/tech management scale, cost synergies, and digital/AI innovation. Clear potential for outsourcing post-integration.<br />\\n<br />\\n📈 **Strategy:**<br />\\nTarget VP Operations Europe and transition team with scalable crew and digital technical solutions for ex-Solstad fleet, emphasizing cost savings, rapid onboarding, and IMO 2030 compliance.<br />\\n<br />\\n🔗 **Reference Link:**<br />\\n<a href=\"https://www.tdw.com\" target=\"_blank\">https://www.tdw.com</a>/', 'add_time': '2025-05-30 00:00:00', 'update_time': '2025-05-30 06:26:53', 'active_flag': True, 'pinned_to_deal_flag': False, 'pinned_to_person_flag': False, 'pinned_to_organization_flag': False, 'pinned_to_lead_flag': False, 'last_update_user_id': None, 'organization': {'name': 'Tidewater Inc.'}, 'person': None, 'deal': None, 'lead': {'title': 'Tidewater Inc.'}, 'user': {'email': 'spdatateam@synergyship.com', 'name': 'Data Team', 'icon_url': None, 'is_you': True}}}\n",
            ",Processing organization: Island Offshore\n",
            ",Checking if organization 'Island Offshore' exists... Island Offshore\n",
            ",Organization 'Island Offshore' does not exist\n",
            ",Create organization: Island Offshore\n",
            ",Organization 'Island Offshore' created successfully with ID: 3855\n",
            ",Lead 'Island Offshore' created successfully\n",
            ",Lead ID: 14c01ae0-3d1f-11f0-8085-b3a2a921474b\n",
            ",Successfully added company overview note\n",
            ",{'success': True, 'data': {'id': 1023, 'user_id': 22966424, 'deal_id': None, 'person_id': None, 'org_id': 3855, 'lead_id': '14c01ae0-3d1f-11f0-8085-b3a2a921474b', 'content': '# Company Overview: Island Offshore<br />\\n<br />\\n📍 **Headquarters:**<br />\\nKystveien 163, 6006 Ålesund, Norway<br />\\n<br />\\n🚢 **Fleet:**<br />\\n23 advanced PSVs/AHTS; high GL/ice-class; harsh environment specialists; strong North Sea focus<br />\\n<br />\\n⭐ **Strategic Fit:**<br />\\nA leader in advanced PSV ops, open to select third-party support for innovation, digitalization, or regulatory upgrades in crew/tech.<br />\\n<br />\\n📈 **Strategy:**<br />\\nEngage at Nor-Shipping/ONS; pitch digital management platform for hybrid/local compliance, retrofit projects, and specialized crew pools.<br />\\n<br />\\n🔗 **Reference Link:**<br />\\n<a href=\"https://www.islandoffshore.com/psv\" target=\"_blank\">https://www.islandoffshore.com/psv</a>', 'add_time': '2025-05-30 00:00:00', 'update_time': '2025-05-30 06:26:55', 'active_flag': True, 'pinned_to_deal_flag': False, 'pinned_to_person_flag': False, 'pinned_to_organization_flag': False, 'pinned_to_lead_flag': False, 'last_update_user_id': None, 'organization': {'name': 'Island Offshore'}, 'person': None, 'deal': None, 'lead': {'title': 'Island Offshore'}, 'user': {'email': 'spdatateam@synergyship.com', 'name': 'Data Team', 'icon_url': None, 'is_you': True}}}\n",
            ",Processing organization: Sentinel Marine\n",
            ",Checking if organization 'Sentinel Marine' exists... Sentinel Marine\n",
            ",Organization 'Sentinel Marine' does not exist\n",
            ",Create organization: Sentinel Marine\n",
            ",Organization 'Sentinel Marine' created successfully with ID: 3856\n",
            ",Lead 'Sentinel Marine' created successfully\n",
            ",Lead ID: 166bcf10-3d1f-11f0-8085-b3a2a921474b\n",
            ",Successfully added company overview note\n",
            ",{'success': True, 'data': {'id': 1024, 'user_id': 22966424, 'deal_id': None, 'person_id': None, 'org_id': 3856, 'lead_id': '166bcf10-3d1f-11f0-8085-b3a2a921474b', 'content': '# Company Overview: Sentinel Marine<br />\\n<br />\\n📍 **Headquarters:**<br />\\nAdmiral Court, Poynernook Rd, Aberdeen AB11 5QX, UK<br />\\n<br />\\n🚢 **Fleet:**<br />\\n10+ vessels (PSV/ERRV); 3 new PSVs on order; expanding in UK North Sea sector; fast newbuild delivery pipeline (to 2027)<br />\\n<br />\\n⭐ **Strategic Fit:**<br />\\nMedium-sized emergent UK operator, rapidly scaling PSV segment. Likely to benefit from economies of scale and advanced crew sourcing.<br />\\n<br />\\n📈 **Strategy:**<br />\\nLeverage UK presence and supplier networks, focusing on newbuild crew/tech management partnerships as delivery dates approach.<br />\\n<br />\\n🔗 **Reference Link:**<br />\\n<a href=\"https://www.sentinel-marine.com\" target=\"_blank\">https://www.sentinel-marine.com</a>/', 'add_time': '2025-05-30 00:00:00', 'update_time': '2025-05-30 06:26:58', 'active_flag': True, 'pinned_to_deal_flag': False, 'pinned_to_person_flag': False, 'pinned_to_organization_flag': False, 'pinned_to_lead_flag': False, 'last_update_user_id': None, 'organization': {'name': 'Sentinel Marine'}, 'person': None, 'deal': None, 'lead': {'title': 'Sentinel Marine'}, 'user': {'email': 'spdatateam@synergyship.com', 'name': 'Data Team', 'icon_url': None, 'is_you': True}}}\n",
            ",Processing organization: Sea1 Offshore\n",
            ",Checking if organization 'Sea1 Offshore' exists... Sea1 Offshore\n",
            ",Organization 'Sea1 Offshore' does not exist\n",
            ",Create organization: Sea1 Offshore\n",
            ",Organization 'Sea1 Offshore' created successfully with ID: 3857\n",
            ",Lead 'Sea1 Offshore' created successfully\n",
            ",Lead ID: 18323730-3d1f-11f0-89ba-bd4e5cb40c9f\n",
            ",Successfully added company overview note\n",
            ",{'success': True, 'data': {'id': 1025, 'user_id': 22966424, 'deal_id': None, 'person_id': None, 'org_id': 3857, 'lead_id': '18323730-3d1f-11f0-89ba-bd4e5cb40c9f', 'content': '# Company Overview: Sea1 Offshore<br />\\n<br />\\n📍 **Headquarters:**<br />\\nHaakon VII\\'s gate 2, Kristiansand, Norway<br />\\n<br />\\n🚢 **Fleet:**<br />\\n9+ modern OSVs, PSV/AHTS split, inc. ex-Siem state-of-art assets & legacy newbuilds; rapidly scaling<br />\\n<br />\\n⭐ **Strategic Fit:**<br />\\nRecently restructured, likely to seek fast, reliable crew and technical management support for efficient scaling and cost management in North Sea.<br />\\n<br />\\n📈 **Strategy:**<br />\\nTarget new management with cost benefit analysis and technical efficiency roadmap; emphasize fast mobilization for new contract wins.<br />\\n<br />\\n🔗 **Reference Link:**<br />\\n<a href=\"https://www.sea1offshore.com\" target=\"_blank\">https://www.sea1offshore.com</a>/', 'add_time': '2025-05-30 00:00:00', 'update_time': '2025-05-30 06:27:01', 'active_flag': True, 'pinned_to_deal_flag': False, 'pinned_to_person_flag': False, 'pinned_to_organization_flag': False, 'pinned_to_lead_flag': False, 'last_update_user_id': None, 'organization': {'name': 'Sea1 Offshore'}, 'person': None, 'deal': None, 'lead': {'title': 'Sea1 Offshore'}, 'user': {'email': 'spdatateam@synergyship.com', 'name': 'Data Team', 'icon_url': None, 'is_you': True}}}\n",
            ",Processing organization: DOF Group\n",
            ",Checking if organization 'DOF Group' exists... DOF Group\n",
            ",Organization 'DOF Group' does not exist\n",
            ",Create organization: DOF Group\n",
            ",Organization 'DOF Group' created successfully with ID: 3858\n",
            ",Lead 'DOF Group' created successfully\n",
            ",Lead ID: 198d5a60-3d1f-11f0-b421-276929a2ede6\n",
            ",Successfully added company overview note\n",
            ",{'success': True, 'data': {'id': 1026, 'user_id': 22966424, 'deal_id': None, 'person_id': None, 'org_id': 3858, 'lead_id': '198d5a60-3d1f-11f0-b421-276929a2ede6', 'content': '# Company Overview: DOF Group<br />\\n<br />\\n📍 **Headquarters:**<br />\\nAlfabygget, Thormøhlensgate 53 D, Bergen, Norway<br />\\n<br />\\n🚢 **Fleet:**<br />\\n65 owned OSVs (including 6 PSVs), expanded via Maersk Supply Service assets; strong presence in North Sea and Norway<br />\\n<br />\\n⭐ **Strategic Fit:**<br />\\nMajor regional player with recent merger integration—likely to consider selective outsourcing for legacy or new fleet for OPEX and digital gains.<br />\\n<br />\\n📈 **Strategy:**<br />\\nDirect engagement proposing selective outsourcing or trial management projects, emphasizing ROI/cost optimization, and digital tools.<br />\\n<br />\\n🔗 **Reference Link:**<br />\\n<a href=\"https://www.dof.com\" target=\"_blank\">https://www.dof.com</a>/', 'add_time': '2025-05-30 00:00:00', 'update_time': '2025-05-30 06:27:03', 'active_flag': True, 'pinned_to_deal_flag': False, 'pinned_to_person_flag': False, 'pinned_to_organization_flag': False, 'pinned_to_lead_flag': False, 'last_update_user_id': None, 'organization': {'name': 'DOF Group'}, 'person': None, 'deal': None, 'lead': {'title': 'DOF Group'}, 'user': {'email': 'spdatateam@synergyship.com', 'name': 'Data Team', 'icon_url': None, 'is_you': True}}}\n",
            ",Processing organization: Vroon Offshore Services\n",
            ",Checking if organization 'Vroon Offshore Services' exists... Vroon Offshore Services\n",
            ",Organization 'Vroon Offshore Services' does not exist\n",
            ",Create organization: Vroon Offshore Services\n",
            ",Organization 'Vroon Offshore Services' created successfully with ID: 3859\n",
            ",Lead 'Vroon Offshore Services' created successfully\n",
            ",Lead ID: 1abab6d0-3d1f-11f0-8a32-7f362a0f7aec\n",
            ",Successfully added company overview note\n",
            ",{'success': True, 'data': {'id': 1027, 'user_id': 22966424, 'deal_id': None, 'person_id': None, 'org_id': 3859, 'lead_id': '1abab6d0-3d1f-11f0-8a32-7f362a0f7aec', 'content': '# Company Overview: Vroon Offshore Services<br />\\n<br />\\n📍 **Headquarters:**<br />\\nBreskens, Netherlands & Aberdeen, UK<br />\\n<br />\\n🚢 **Fleet:**<br />\\n40+ OSVs (20-25 PSVs) serving North Sea, Dutch/Norwegian sectors; renewal & energy efficiency program<br />\\n<br />\\n⭐ **Strategic Fit:**<br />\\nActive PSV renewals and emission-reduction focus, cross-border ops open to flexible crew sourcing and tech optimization partnerships.<br />\\n<br />\\n📈 **Strategy:**<br />\\nPosition Synergy’s expertise in emission/efficiency retrofits and tailored crew solutions for Dutch/UK sector requirements.<br />\\n<br />\\n🔗 **Reference Link:**<br />\\n<a href=\"https://www.vroonoffshore.com\" target=\"_blank\">https://www.vroonoffshore.com</a>/', 'add_time': '2025-05-30 00:00:00', 'update_time': '2025-05-30 06:27:06', 'active_flag': True, 'pinned_to_deal_flag': False, 'pinned_to_person_flag': False, 'pinned_to_organization_flag': False, 'pinned_to_lead_flag': False, 'last_update_user_id': None, 'organization': {'name': 'Vroon Offshore Services'}, 'person': None, 'deal': None, 'lead': {'title': 'Vroon Offshore Services'}, 'user': {'email': 'spdatateam@synergyship.com', 'name': 'Data Team', 'icon_url': None, 'is_you': True}}}\n",
            ",Processing organization: Aurora Offshore\n",
            ",Checking if organization 'Aurora Offshore' exists... Aurora Offshore\n",
            ",Organization 'Aurora Offshore' does not exist\n",
            ",Create organization: Aurora Offshore\n",
            ",Organization 'Aurora Offshore' created successfully with ID: 3860\n",
            ",Lead 'Aurora Offshore' created successfully\n",
            ",Lead ID: 1ced9c60-3d1f-11f0-b861-934242c40bfa\n",
            ",Successfully added company overview note\n",
            ",{'success': True, 'data': {'id': 1028, 'user_id': 22966424, 'deal_id': None, 'person_id': None, 'org_id': 3860, 'lead_id': '1ced9c60-3d1f-11f0-b861-934242c40bfa', 'content': '# Company Overview: Aurora Offshore<br />\\n<br />\\n📍 **Headquarters:**<br />\\nKarmsund, Norway<br />\\n<br />\\n🚢 **Fleet:**<br />\\n28 PSVs/AHTS after Sea1/Siem asset integration; rapid PSV fleet scaling; heavy North Sea presence<br />\\n<br />\\n⭐ **Strategic Fit:**<br />\\nAggressive scaler, integrating multiple new PSVs, likely needing nimble, external crew and management support for smooth operations.<br />\\n<br />\\n📈 **Strategy:**<br />\\nOutreach to technical/commercial head offering turn-key ramp-up solutions for new vessels and compliance audits.<br />\\n<br />\\n🔗 **Reference Link:**<br />\\n<a href=\"https://auroraoffshore.com\" target=\"_blank\">https://auroraoffshore.com</a>/', 'add_time': '2025-05-30 00:00:00', 'update_time': '2025-05-30 06:27:09', 'active_flag': True, 'pinned_to_deal_flag': False, 'pinned_to_person_flag': False, 'pinned_to_organization_flag': False, 'pinned_to_lead_flag': False, 'last_update_user_id': None, 'organization': {'name': 'Aurora Offshore'}, 'person': None, 'deal': None, 'lead': {'title': 'Aurora Offshore'}, 'user': {'email': 'spdatateam@synergyship.com', 'name': 'Data Team', 'icon_url': None, 'is_you': True}}}\n",
            ",Processing organization: Northern Offshore Services (N-O-S)\n",
            ",Checking if organization 'Northern Offshore Services (N-O-S)' exists... Northern Offshore Services (N-O-S)\n",
            ",Organization 'Northern Offshore Services (N-O-S)' does not exist\n",
            ",Create organization: Northern Offshore Services (N-O-S)\n",
            ",Organization 'Northern Offshore Services (N-O-S)' created successfully with ID: 3861\n",
            ",Lead 'Northern Offshore Services (N-O-S)' created successfully\n",
            ",Lead ID: 1e3a40a0-3d1f-11f0-89ba-bd4e5cb40c9f\n",
            ",Successfully added company overview note\n",
            ",{'success': True, 'data': {'id': 1029, 'user_id': 22966424, 'deal_id': None, 'person_id': None, 'org_id': 3861, 'lead_id': '1e3a40a0-3d1f-11f0-89ba-bd4e5cb40c9f', 'content': '# Company Overview: Northern Offshore Services (N-O-S)<br />\\n<br />\\n📍 **Headquarters:**<br />\\nGothenburg, Sweden<br />\\n<br />\\n🚢 **Fleet:**<br />\\nExpanding PSV/OSV/CTVs; increased segment in PSV technical/commercial management for Scandinavia/North Sea<br />\\n<br />\\n⭐ **Strategic Fit:**<br />\\nDiversifying and expanding in North Sea PSV/OSV management—potential for efficiency-centric crew and digital support partnerships.<br />\\n<br />\\n📈 **Strategy:**<br />\\nPresent case studies of managed fleet cost savings and digital upgrades for North Sea appointees.<br />\\n<br />\\n🔗 **Reference Link:**<br />\\n<a href=\"https://n-o-s.eu\" target=\"_blank\">https://n-o-s.eu</a>/', 'add_time': '2025-05-30 00:00:00', 'update_time': '2025-05-30 06:27:12', 'active_flag': True, 'pinned_to_deal_flag': False, 'pinned_to_person_flag': False, 'pinned_to_organization_flag': False, 'pinned_to_lead_flag': False, 'last_update_user_id': None, 'organization': {'name': 'Northern Offshore Services (N-O-S)'}, 'person': None, 'deal': None, 'lead': {'title': 'Northern Offshore Services (N-O-S)'}, 'user': {'email': 'spdatateam@synergyship.com', 'name': 'Data Team', 'icon_url': None, 'is_you': True}}}\n",
            ",Processing organization: Eidesvik Offshore\n",
            ",Checking if organization 'Eidesvik Offshore' exists... Eidesvik Offshore\n",
            ",Organization 'Eidesvik Offshore' does not exist\n",
            ",Create organization: Eidesvik Offshore\n",
            ",Organization 'Eidesvik Offshore' created successfully with ID: 3862\n",
            ",Lead 'Eidesvik Offshore' created successfully\n",
            ",Lead ID: 20156940-3d1f-11f0-b421-276929a2ede6\n",
            ",Successfully added company overview note\n",
            ",{'success': True, 'data': {'id': 1030, 'user_id': 22966424, 'deal_id': None, 'person_id': None, 'org_id': 3862, 'lead_id': '20156940-3d1f-11f0-b421-276929a2ede6', 'content': '# Company Overview: Eidesvik Offshore<br />\\n<br />\\n📍 **Headquarters:**<br />\\nBømlo, Norway<br />\\n<br />\\n🚢 **Fleet:**<br />\\n20+ OSVs, including hybrid/LNG PSVs; high technical and innovation focus; Northern Europe operation<br />\\n<br />\\n⭐ **Strategic Fit:**<br />\\nActively invests in hybrid and digital upgrades; possible to supplement technical/crew management for green fleet assets.<br />\\n<br />\\n📈 **Strategy:**<br />\\nHighlight Synergy’s decarbonization, hybrid, and digital technical solutions; propose partnership for efficiency pilots.<br />\\n<br />\\n🔗 **Reference Link:**<br />\\n<a href=\"https://www.eidesvik.no\" target=\"_blank\">https://www.eidesvik.no</a>/', 'add_time': '2025-05-30 00:00:00', 'update_time': '2025-05-30 06:27:14', 'active_flag': True, 'pinned_to_deal_flag': False, 'pinned_to_person_flag': False, 'pinned_to_organization_flag': False, 'pinned_to_lead_flag': False, 'last_update_user_id': None, 'organization': {'name': 'Eidesvik Offshore'}, 'person': None, 'deal': None, 'lead': {'title': 'Eidesvik Offshore'}, 'user': {'email': 'spdatateam@synergyship.com', 'name': 'Data Team', 'icon_url': None, 'is_you': True}}}\n",
            ",Processing organization: Havila Shipping\n",
            ",Checking if organization 'Havila Shipping' exists... Havila Shipping\n",
            ",Organization 'Havila Shipping' does not exist\n",
            ",Create organization: Havila Shipping\n",
            ",Organization 'Havila Shipping' created successfully with ID: 3863\n",
            ",Lead 'Havila Shipping' created successfully\n",
            ",Lead ID: 2168c440-3d1f-11f0-8a32-7f362a0f7aec\n",
            ",Successfully added company overview note\n",
            ",{'success': True, 'data': {'id': 1031, 'user_id': 22966424, 'deal_id': None, 'person_id': None, 'org_id': 3863, 'lead_id': '2168c440-3d1f-11f0-8a32-7f362a0f7aec', 'content': '# Company Overview: Havila Shipping<br />\\n<br />\\n📍 **Headquarters:**<br />\\nFosnavåg, Norway<br />\\n<br />\\n🚢 **Fleet:**<br />\\n23 OSVs (significant PSVs/AHTS); recent newbuilds; reliable North Sea/Barents operation<br />\\n<br />\\n⭐ **Strategic Fit:**<br />\\nFamily-owned but forward-thinking; may consider hybrid or outsourced management to optimize costs and expand technical depth.<br />\\n<br />\\n📈 **Strategy:**<br />\\nEngage owner/ops heads via hybrid management/efficiency pitch and digital compliance pilots.<br />\\n<br />\\n🔗 **Reference Link:**<br />\\n<a href=\"https://www.havila.no\" target=\"_blank\">https://www.havila.no</a>/', 'add_time': '2025-05-30 00:00:00', 'update_time': '2025-05-30 06:27:16', 'active_flag': True, 'pinned_to_deal_flag': False, 'pinned_to_person_flag': False, 'pinned_to_organization_flag': False, 'pinned_to_lead_flag': False, 'last_update_user_id': None, 'organization': {'name': 'Havila Shipping'}, 'person': None, 'deal': None, 'lead': {'title': 'Havila Shipping'}, 'user': {'email': 'spdatateam@synergyship.com', 'name': 'Data Team', 'icon_url': None, 'is_you': True}}}\n",
            ",Processing organization: K Line Offshore\n",
            ",Checking if organization 'K Line Offshore' exists... K Line Offshore\n",
            ",Organization 'K Line Offshore' does not exist\n",
            ",Create organization: K Line Offshore\n",
            ",Organization 'K Line Offshore' created successfully with ID: 3864\n",
            ",Lead 'K Line Offshore' created successfully\n",
            ",Lead ID: 229e5e10-3d1f-11f0-8085-b3a2a921474b\n",
            ",Successfully added company overview note\n",
            ",{'success': True, 'data': {'id': 1032, 'user_id': 22966424, 'deal_id': None, 'person_id': None, 'org_id': 3864, 'lead_id': '229e5e10-3d1f-11f0-8085-b3a2a921474b', 'content': '# Company Overview: K Line Offshore<br />\\n<br />\\n📍 **Headquarters:**<br />\\nTokyo, Japan (operational HQ: Bergen, Norway)<br />\\n<br />\\n🚢 **Fleet:**<br />\\nModern PSV/AHTS fleet focused on Norwegian North Sea sector<br />\\n<br />\\n⭐ **Strategic Fit:**<br />\\nGlobal shipping giant with niche regional fleet; may look for local technical management expertise for North Sea assets.<br />\\n<br />\\n📈 **Strategy:**<br />\\nApproach Norwegian operations center, offer North Sea-specific technical/crew management partnership enhancing regulatory compliance.<br />\\n<br />\\n🔗 **Reference Link:**<br />\\n<a href=\"https://www.kline.co.jp/en\" target=\"_blank\">https://www.kline.co.jp/en</a>/', 'add_time': '2025-05-30 00:00:00', 'update_time': '2025-05-30 06:27:18', 'active_flag': True, 'pinned_to_deal_flag': False, 'pinned_to_person_flag': False, 'pinned_to_organization_flag': False, 'pinned_to_lead_flag': False, 'last_update_user_id': None, 'organization': {'name': 'K Line Offshore'}, 'person': None, 'deal': None, 'lead': {'title': 'K Line Offshore'}, 'user': {'email': 'spdatateam@synergyship.com', 'name': 'Data Team', 'icon_url': None, 'is_you': True}}}\n",
            ",Processing organization: Bourbon Offshore\n",
            ",Checking if organization 'Bourbon Offshore' exists... Bourbon Offshore\n",
            ",Organization 'Bourbon Offshore' does not exist\n",
            ",Create organization: Bourbon Offshore\n",
            ",Organization 'Bourbon Offshore' created successfully with ID: 3865\n",
            ",Lead 'Bourbon Offshore' created successfully\n",
            ",Lead ID: 23dc8360-3d1f-11f0-89ba-bd4e5cb40c9f\n",
            ",Successfully added company overview note\n",
            ",{'success': True, 'data': {'id': 1033, 'user_id': 22966424, 'deal_id': None, 'person_id': None, 'org_id': 3865, 'lead_id': '23dc8360-3d1f-11f0-89ba-bd4e5cb40c9f', 'content': '# Company Overview: Bourbon Offshore<br />\\n<br />\\n📍 **Headquarters:**<br />\\nParis, France (major North Sea ops)<br />\\n<br />\\n🚢 **Fleet:**<br />\\n100+ OSVs globally; large, tech-driven PSV fleet in Northern Europe; ongoing cost and renewal pressures<br />\\n<br />\\n⭐ **Strategic Fit:**<br />\\nLarge operator, current focus on cost management and tech renewal, making selective outsourcing for PSVs likely.<br />\\n<br />\\n📈 **Strategy:**<br />\\nTarget Subsea/PSV renewal project leads, position Synergy’s digital and technical management for European fleet.<br />\\n<br />\\n🔗 **Reference Link:**<br />\\n<a href=\"https://www.bourbonoffshore.com\" target=\"_blank\">https://www.bourbonoffshore.com</a>/', 'add_time': '2025-05-30 00:00:00', 'update_time': '2025-05-30 06:27:20', 'active_flag': True, 'pinned_to_deal_flag': False, 'pinned_to_person_flag': False, 'pinned_to_organization_flag': False, 'pinned_to_lead_flag': False, 'last_update_user_id': None, 'organization': {'name': 'Bourbon Offshore'}, 'person': None, 'deal': None, 'lead': {'title': 'Bourbon Offshore'}, 'user': {'email': 'spdatateam@synergyship.com', 'name': 'Data Team', 'icon_url': None, 'is_you': True}}}\n",
            ",Processing organization: Edison Chouest Offshore\n",
            ",Checking if organization 'Edison Chouest Offshore' exists... Edison Chouest Offshore\n",
            ",Organization 'Edison Chouest Offshore' does not exist\n",
            ",Create organization: Edison Chouest Offshore\n",
            ",Organization 'Edison Chouest Offshore' created successfully with ID: 3866\n",
            ",Lead 'Edison Chouest Offshore' created successfully\n",
            ",Lead ID: 25f63ba0-3d1f-11f0-8a32-7f362a0f7aec\n",
            ",Successfully added company overview note\n",
            ",{'success': True, 'data': {'id': 1034, 'user_id': 22966424, 'deal_id': None, 'person_id': None, 'org_id': 3866, 'lead_id': '25f63ba0-3d1f-11f0-8a32-7f362a0f7aec', 'content': '# Company Overview: Edison Chouest Offshore<br />\\n<br />\\n📍 **Headquarters:**<br />\\nGalliano, Louisiana, USA (North Sea ops via subsidiaries)<br />\\n<br />\\n🚢 **Fleet:**<br />\\nLarge diversified OSV fleet, multiple PSVs regularly deployed in UK/Norwegian waters<br />\\n<br />\\n⭐ **Strategic Fit:**<br />\\nVertical integration with regional need for crew/tech partners; opportunity in supporting North Sea local compliance.<br />\\n<br />\\n📈 **Strategy:**<br />\\nEngage subsidiaries/local managers with North Sea crew/tech compliance enhancements.<br />\\n<br />\\n🔗 **Reference Link:**<br />\\n<a href=\"https://www.chouest.com\" target=\"_blank\">https://www.chouest.com</a>/', 'add_time': '2025-05-30 00:00:00', 'update_time': '2025-05-30 06:27:24', 'active_flag': True, 'pinned_to_deal_flag': False, 'pinned_to_person_flag': False, 'pinned_to_organization_flag': False, 'pinned_to_lead_flag': False, 'last_update_user_id': None, 'organization': {'name': 'Edison Chouest Offshore'}, 'person': None, 'deal': None, 'lead': {'title': 'Edison Chouest Offshore'}, 'user': {'email': 'spdatateam@synergyship.com', 'name': 'Data Team', 'icon_url': None, 'is_you': True}}}\n",
            ",Processing organization: Simon Møkster Shipping\n",
            ",Checking if organization 'Simon Møkster Shipping' exists... Simon Møkster Shipping\n",
            ",Organization 'Simon Møkster Shipping' does not exist\n",
            ",Create organization: Simon Møkster Shipping\n",
            ",Organization 'Simon Møkster Shipping' created successfully with ID: 3867\n",
            ",Lead 'Simon Møkster Shipping' created successfully\n",
            ",Lead ID: 27380a70-3d1f-11f0-89ba-bd4e5cb40c9f\n",
            ",Successfully added company overview note\n",
            ",{'success': True, 'data': {'id': 1035, 'user_id': 22966424, 'deal_id': None, 'person_id': None, 'org_id': 3867, 'lead_id': '27380a70-3d1f-11f0-89ba-bd4e5cb40c9f', 'content': '# Company Overview: Simon Møkster Shipping<br />\\n<br />\\n📍 **Headquarters:**<br />\\nStavanger, Norway<br />\\n<br />\\n🚢 **Fleet:**<br />\\n24 OSVs (PSV/AHTS, ice class), focused on harsh weather North Sea operations<br />\\n<br />\\n⭐ **Strategic Fit:**<br />\\nSpecialist operator, track record for technical innovation, open to pilot/outsourced solutions in evolving regulatory context.<br />\\n<br />\\n📈 **Strategy:**<br />\\nPitch digital crew scheduling and technical pilot management for high-innovation vessels.<br />\\n<br />\\n🔗 **Reference Link:**<br />\\n<a href=\"https://www.mokster.no\" target=\"_blank\">https://www.mokster.no</a>/', 'add_time': '2025-05-30 00:00:00', 'update_time': '2025-05-30 06:27:26', 'active_flag': True, 'pinned_to_deal_flag': False, 'pinned_to_person_flag': False, 'pinned_to_organization_flag': False, 'pinned_to_lead_flag': False, 'last_update_user_id': None, 'organization': {'name': 'Simon Møkster Shipping'}, 'person': None, 'deal': None, 'lead': {'title': 'Simon Møkster Shipping'}, 'user': {'email': 'spdatateam@synergyship.com', 'name': 'Data Team', 'icon_url': None, 'is_you': True}}}\n",
            ",Processing organization: Wagenborg Offshore\n",
            ",Checking if organization 'Wagenborg Offshore' exists... Wagenborg Offshore\n",
            ",Organization 'Wagenborg Offshore' does not exist\n",
            ",Create organization: Wagenborg Offshore\n",
            ",Organization 'Wagenborg Offshore' created successfully with ID: 3868\n",
            ",Lead 'Wagenborg Offshore' created successfully\n",
            ",Lead ID: 285f4c60-3d1f-11f0-b421-276929a2ede6\n",
            ",Successfully added company overview note\n",
            ",{'success': True, 'data': {'id': 1036, 'user_id': 22966424, 'deal_id': None, 'person_id': None, 'org_id': 3868, 'lead_id': '285f4c60-3d1f-11f0-b421-276929a2ede6', 'content': '# Company Overview: Wagenborg Offshore<br />\\n<br />\\n📍 **Headquarters:**<br />\\nDelfzijl, Netherlands<br />\\n<br />\\n🚢 **Fleet:**<br />\\nPSVs/OSVs for North Sea, Dutch sector, with renewables/utility support specialization<br />\\n<br />\\n⭐ **Strategic Fit:**<br />\\nActively expanding in renewables; likely to benefit from flexible, customized crew and technical management teams.<br />\\n<br />\\n📈 **Strategy:**<br />\\nPresent renewables crew/tech management model and integration experience for Dutch offshore sector.<br />\\n<br />\\n🔗 **Reference Link:**<br />\\n<a href=\"https://www.wagenborg.com\" target=\"_blank\">https://www.wagenborg.com</a>/', 'add_time': '2025-05-30 00:00:00', 'update_time': '2025-05-30 06:27:28', 'active_flag': True, 'pinned_to_deal_flag': False, 'pinned_to_person_flag': False, 'pinned_to_organization_flag': False, 'pinned_to_lead_flag': False, 'last_update_user_id': None, 'organization': {'name': 'Wagenborg Offshore'}, 'person': None, 'deal': None, 'lead': {'title': 'Wagenborg Offshore'}, 'user': {'email': 'spdatateam@synergyship.com', 'name': 'Data Team', 'icon_url': None, 'is_you': True}}}\n"
          ]
        }
      ],
      "source": [
        "for lead in leads:\n",
        "\torganization = lead['name']\n",
        "\tprint(f\"Processing organization: {organization}\")\n",
        "    \n",
        "    # Check if organization exists\n",
        "\torg_id = organization_exists(organization)\n",
        "    \n",
        "    # If organization does not exist, create it\n",
        "\tif org_id is None:\n",
        "\t\tprint(f\"Create organization: {organization}\")\n",
        "\t\torg_id = create_organization(lead)\n",
        "    \n",
        "\t\n",
        "\tname = lead.get('name', 'No Name')\n",
        "\theadquarters = lead.get('company', 'No Company')\n",
        "\tfleet = lead.get('fleet', 'No Fleet')\n",
        "\tstrategic_fit = lead.get('strategic_fit', 'No Fit')\n",
        "\tstrategy = lead.get('strategy', 'No Strategy')\n",
        "\tlink = lead.get('link', 'No Link')\n",
        "\tleads_data = {\n",
        "\t\t'title': name,\n",
        "\t\t'owner_id': owner_id,\n",
        "\t\t#'person_id': None,  # Assuming you don't have person_id\n",
        "\t\t'organization_id': org_id,\n",
        "\t\t#'expected_close_date': formatted_time,\n",
        "\t\t#'channel':channel_id,\n",
        "\t}\n",
        "\n",
        "\t# Make POST request to create lead\n",
        "\tresponse = requests.post('https://api.pipedrive.com/v1/leads',\n",
        "\t\tjson=leads_data,\n",
        "\t\tparams={'api_token': PIPEDRIVE_API_TOKEN}\n",
        "\t)\n",
        "\tif response.status_code == 201:  # 201 is success for POST\n",
        "\t\tprint(f\"Lead '{name}' created successfully\")\n",
        "\t\tlead_id = response.json()['data']['id']\n",
        "\t\tprint(f\"Lead ID: {lead_id}\")\n",
        "\telse:\n",
        "\t\tprint(f\"Error creating lead: {response.status_code}\")\n",
        "\t\n",
        "\n",
        "\t# Create note content\n",
        "\tnote_data = {\n",
        "    'content': create_note_content(lead),\n",
        "    'lead_id': lead_id,\n",
        "    #'org_id': org_id,\n",
        "    'add_time': formatted_time\n",
        "\t}\n",
        "\n",
        "# Make POST request to create note\n",
        "\tresponse = requests.post(\n",
        "\t'https://api.pipedrive.com/v1/notes',\n",
        "\tjson=note_data,\n",
        "\tparams={'api_token': PIPEDRIVE_API_TOKEN}\n",
        "\t)\n",
        "\n",
        "# Check if request was successful\n",
        "\tif response.status_code == 201:\n",
        "\t\tprint(\"Successfully added company overview note\")\n",
        "\t\tprint(response.json())\n",
        "\telse:\n",
        "\t\tprint(f\"Error adding note: {response.status_code}\")\n",
        "\t\tprint(response.text)\n",
        "\t\n",
        "\t\n",
        "    # Now you can use org_id for further operations like creating deals or persons\n",
        "\t#print(f\"Organization ID for {organization}: {org_id}\")"
      ]
    },
    {
      "cell_type": "code",
      "execution_count": null,
      "id": "ace285d4",
      "metadata": {
        "vscode": {
          "languageId": "ruby"
        }
      },
      "outputs": [
        {
          "name": "stdout",
          "output_type": "stream",
          "text": [
            "Processing organization: Odfjell SE\n",
            ",Checking if organization 'Odfjell SE' exists... Odfjell SE\n",
            ",Organization 'Odfjell SE' already exists\n",
            ",Lead 'Odfjell SE' created successfully\n",
            ",Lead ID: 96537020-3d1a-11f0-b421-276929a2ede6\n",
            ",Successfully added company overview note\n",
            ",Processing organization: Euronav NV\n",
            ",Checking if organization 'Euronav NV' exists... Euronav NV\n",
            ",Organization 'Euronav NV' does not exist\n",
            ",Creating organization: Euronav NV\n",
            ",Organization 'Euronav NV' created successfully\n",
            ",Organization ID: 3844\n",
            ",{'success': True, 'data': {'id': 3844, 'owner_id': {'id': 22966424, 'name': 'Data Team', 'email': 'spdatateam@synergyship.com', 'has_pic': 0, 'pic_hash': None, 'active_flag': True, 'value': 22966424}, 'name': 'Euronav NV', 'open_deals_count': 0, 'related_open_deals_count': 0, 'closed_deals_count': 0, 'related_closed_deals_count': 0, 'email_messages_count': 0, 'people_count': 0, 'activities_count': 0, 'done_activities_count': 0, 'undone_activities_count': 0, 'files_count': 0, 'notes_count': 0, 'followers_count': 0, 'won_deals_count': 0, 'related_won_deals_count': 0, 'lost_deals_count': 0, 'related_lost_deals_count': 0, 'active_flag': True, 'picture_id': None, 'country_code': None, 'first_char': 'e', 'update_time': '2025-05-30 05:54:47', 'delete_time': None, 'add_time': '2025-05-30 00:00:00', 'visible_to': '7', 'next_activity_date': None, 'next_activity_time': None, 'next_activity_id': None, 'last_activity_id': None, 'last_activity_date': None, 'label': None, 'label_ids': [], 'address': None, 'address_subpremise': None, 'address_street_number': None, 'address_route': None, 'address_sublocality': None, 'address_locality': None, 'address_admin_area_level_1': None, 'address_admin_area_level_2': None, 'address_country': None, 'address_postal_code': None, 'address_formatted_address': None, 'website': None, 'linkedin': None, 'industry': None, 'annual_revenue': None, 'employee_count': None, 'cc_email': 'synergymarine@pipedrivemail.com', 'b89185905fb638942c714aab7db05a063e1f60c9': None, '05248db73ddbf1b366b6fc9eea1aba7dc29fc30e': None, 'e5d37857c4a715d61a408398c3a440b0d0306081': None, '10889c9ec3fb0ce213a47adfe428060315477dbf': None, '3ed47ac7bf6ce66a8cf7afe0792bd643028e7fd9': None, '341acf9a5d533fab35d2d3411830520ca3654e8b': None, '2e6c964374e3bf90979461f54200bc519872e390': None, '3f1be6ca2669bbdb10918c2daa62480e83ced0dd': None, '38b4d1b6b03bf6194b55a956b26dec3f2eb1432a': None, '921c8e0827c0705508668e278e18b67707cb93b5': None, 'owner_name': 'Data Team', 'edit_name': True, 'company_id': 10270351}, 'additional_data': {'didMerge': False}, 'related_objects': {'user': {'22966424': {'id': 22966424, 'name': 'Data Team', 'email': 'spdatateam@synergyship.com', 'has_pic': 0, 'pic_hash': None, 'active_flag': True}}}}\n",
            ",Lead 'Euronav NV' created successfully\n",
            ",Lead ID: 97efbb00-3d1a-11f0-b421-276929a2ede6\n",
            ",Successfully added company overview note\n",
            ",Processing organization: Terntank Rederi AS\n",
            ",Checking if organization 'Terntank Rederi AS' exists... Terntank Rederi AS\n",
            ",Organization 'Terntank Rederi AS' does not exist\n",
            ",Creating organization: Terntank Rederi AS\n",
            ",Organization 'Terntank Rederi AS' created successfully\n",
            ",Organization ID: 3845\n",
            ",{'success': True, 'data': {'id': 3845, 'owner_id': {'id': 22966424, 'name': 'Data Team', 'email': 'spdatateam@synergyship.com', 'has_pic': 0, 'pic_hash': None, 'active_flag': True, 'value': 22966424}, 'name': 'Terntank Rederi AS', 'open_deals_count': 0, 'related_open_deals_count': 0, 'closed_deals_count': 0, 'related_closed_deals_count': 0, 'email_messages_count': 0, 'people_count': 0, 'activities_count': 0, 'done_activities_count': 0, 'undone_activities_count': 0, 'files_count': 0, 'notes_count': 0, 'followers_count': 0, 'won_deals_count': 0, 'related_won_deals_count': 0, 'lost_deals_count': 0, 'related_lost_deals_count': 0, 'active_flag': True, 'picture_id': None, 'country_code': None, 'first_char': 't', 'update_time': '2025-05-30 05:54:48', 'delete_time': None, 'add_time': '2025-05-30 00:00:00', 'visible_to': '7', 'next_activity_date': None, 'next_activity_time': None, 'next_activity_id': None, 'last_activity_id': None, 'last_activity_date': None, 'label': None, 'label_ids': [], 'address': None, 'address_subpremise': None, 'address_street_number': None, 'address_route': None, 'address_sublocality': None, 'address_locality': None, 'address_admin_area_level_1': None, 'address_admin_area_level_2': None, 'address_country': None, 'address_postal_code': None, 'address_formatted_address': None, 'website': None, 'linkedin': None, 'industry': None, 'annual_revenue': None, 'employee_count': None, 'cc_email': 'synergymarine@pipedrivemail.com', 'b89185905fb638942c714aab7db05a063e1f60c9': None, '05248db73ddbf1b366b6fc9eea1aba7dc29fc30e': None, 'e5d37857c4a715d61a408398c3a440b0d0306081': None, '10889c9ec3fb0ce213a47adfe428060315477dbf': None, '3ed47ac7bf6ce66a8cf7afe0792bd643028e7fd9': None, '341acf9a5d533fab35d2d3411830520ca3654e8b': None, '2e6c964374e3bf90979461f54200bc519872e390': None, '3f1be6ca2669bbdb10918c2daa62480e83ced0dd': None, '38b4d1b6b03bf6194b55a956b26dec3f2eb1432a': None, '921c8e0827c0705508668e278e18b67707cb93b5': None, 'owner_name': 'Data Team', 'edit_name': True, 'company_id': 10270351}, 'additional_data': {'didMerge': False}, 'related_objects': {'user': {'22966424': {'id': 22966424, 'name': 'Data Team', 'email': 'spdatateam@synergyship.com', 'has_pic': 0, 'pic_hash': None, 'active_flag': True}}}}\n",
            ",Lead 'Terntank Rederi AS' created successfully\n",
            ",Lead ID: 990a2bb0-3d1a-11f0-b642-63e2ee32abd6\n",
            ",Successfully added company overview note\n",
            ",Processing organization: NORDEN (Dampskibsselskabet Norden A/S)\n",
            ",Checking if organization 'NORDEN (Dampskibsselskabet Norden A/S)' exists... NORDEN (Dampskibsselskabet Norden A/S)\n",
            ",Organization 'NORDEN (Dampskibsselskabet Norden A/S)' does not exist\n",
            ",Creating organization: NORDEN (Dampskibsselskabet Norden A/S)\n",
            ",Organization 'NORDEN (Dampskibsselskabet Norden A/S)' created successfully\n",
            ",Organization ID: 3846\n",
            ",{'success': True, 'data': {'id': 3846, 'owner_id': {'id': 22966424, 'name': 'Data Team', 'email': 'spdatateam@synergyship.com', 'has_pic': 0, 'pic_hash': None, 'active_flag': True, 'value': 22966424}, 'name': 'NORDEN (Dampskibsselskabet Norden A/S)', 'open_deals_count': 0, 'related_open_deals_count': 0, 'closed_deals_count': 0, 'related_closed_deals_count': 0, 'email_messages_count': 0, 'people_count': 0, 'activities_count': 0, 'done_activities_count': 0, 'undone_activities_count': 0, 'files_count': 0, 'notes_count': 0, 'followers_count': 0, 'won_deals_count': 0, 'related_won_deals_count': 0, 'lost_deals_count': 0, 'related_lost_deals_count': 0, 'active_flag': True, 'picture_id': None, 'country_code': None, 'first_char': 'n', 'update_time': '2025-05-30 05:54:50', 'delete_time': None, 'add_time': '2025-05-30 00:00:00', 'visible_to': '7', 'next_activity_date': None, 'next_activity_time': None, 'next_activity_id': None, 'last_activity_id': None, 'last_activity_date': None, 'label': None, 'label_ids': [], 'address': None, 'address_subpremise': None, 'address_street_number': None, 'address_route': None, 'address_sublocality': None, 'address_locality': None, 'address_admin_area_level_1': None, 'address_admin_area_level_2': None, 'address_country': None, 'address_postal_code': None, 'address_formatted_address': None, 'website': None, 'linkedin': None, 'industry': None, 'annual_revenue': None, 'employee_count': None, 'cc_email': 'synergymarine@pipedrivemail.com', 'b89185905fb638942c714aab7db05a063e1f60c9': None, '05248db73ddbf1b366b6fc9eea1aba7dc29fc30e': None, 'e5d37857c4a715d61a408398c3a440b0d0306081': None, '10889c9ec3fb0ce213a47adfe428060315477dbf': None, '3ed47ac7bf6ce66a8cf7afe0792bd643028e7fd9': None, '341acf9a5d533fab35d2d3411830520ca3654e8b': None, '2e6c964374e3bf90979461f54200bc519872e390': None, '3f1be6ca2669bbdb10918c2daa62480e83ced0dd': None, '38b4d1b6b03bf6194b55a956b26dec3f2eb1432a': None, '921c8e0827c0705508668e278e18b67707cb93b5': None, 'owner_name': 'Data Team', 'edit_name': True, 'company_id': 10270351}, 'additional_data': {'didMerge': False}, 'related_objects': {'user': {'22966424': {'id': 22966424, 'name': 'Data Team', 'email': 'spdatateam@synergyship.com', 'has_pic': 0, 'pic_hash': None, 'active_flag': True}}}}\n",
            ",Lead 'NORDEN (Dampskibsselskabet Norden A/S)' created successfully\n",
            ",Lead ID: 9a06b420-3d1a-11f0-b861-934242c40bfa\n",
            ",Successfully added company overview note\n",
            ",Processing organization: Stena Bulk AB\n",
            ",Checking if organization 'Stena Bulk AB' exists... Stena Bulk AB\n",
            ",Organization 'Stena Bulk AB' does not exist\n",
            ",Creating organization: Stena Bulk AB\n",
            ",Organization 'Stena Bulk AB' created successfully\n",
            ",Organization ID: 3847\n",
            ",{'success': True, 'data': {'id': 3847, 'owner_id': {'id': 22966424, 'name': 'Data Team', 'email': 'spdatateam@synergyship.com', 'has_pic': 0, 'pic_hash': None, 'active_flag': True, 'value': 22966424}, 'name': 'Stena Bulk AB', 'open_deals_count': 0, 'related_open_deals_count': 0, 'closed_deals_count': 0, 'related_closed_deals_count': 0, 'email_messages_count': 0, 'people_count': 0, 'activities_count': 0, 'done_activities_count': 0, 'undone_activities_count': 0, 'files_count': 0, 'notes_count': 0, 'followers_count': 0, 'won_deals_count': 0, 'related_won_deals_count': 0, 'lost_deals_count': 0, 'related_lost_deals_count': 0, 'active_flag': True, 'picture_id': None, 'country_code': None, 'first_char': 's', 'update_time': '2025-05-30 05:54:53', 'delete_time': None, 'add_time': '2025-05-30 00:00:00', 'visible_to': '7', 'next_activity_date': None, 'next_activity_time': None, 'next_activity_id': None, 'last_activity_id': None, 'last_activity_date': None, 'label': None, 'label_ids': [], 'address': None, 'address_subpremise': None, 'address_street_number': None, 'address_route': None, 'address_sublocality': None, 'address_locality': None, 'address_admin_area_level_1': None, 'address_admin_area_level_2': None, 'address_country': None, 'address_postal_code': None, 'address_formatted_address': None, 'website': None, 'linkedin': None, 'industry': None, 'annual_revenue': None, 'employee_count': None, 'cc_email': 'synergymarine@pipedrivemail.com', 'b89185905fb638942c714aab7db05a063e1f60c9': None, '05248db73ddbf1b366b6fc9eea1aba7dc29fc30e': None, 'e5d37857c4a715d61a408398c3a440b0d0306081': None, '10889c9ec3fb0ce213a47adfe428060315477dbf': None, '3ed47ac7bf6ce66a8cf7afe0792bd643028e7fd9': None, '341acf9a5d533fab35d2d3411830520ca3654e8b': None, '2e6c964374e3bf90979461f54200bc519872e390': None, '3f1be6ca2669bbdb10918c2daa62480e83ced0dd': None, '38b4d1b6b03bf6194b55a956b26dec3f2eb1432a': None, '921c8e0827c0705508668e278e18b67707cb93b5': None, 'owner_name': 'Data Team', 'edit_name': True, 'company_id': 10270351}, 'additional_data': {'didMerge': False}, 'related_objects': {'user': {'22966424': {'id': 22966424, 'name': 'Data Team', 'email': 'spdatateam@synergyship.com', 'has_pic': 0, 'pic_hash': None, 'active_flag': True}}}}\n",
            ",Lead 'Stena Bulk AB' created successfully\n",
            ",Lead ID: 9b7622a0-3d1a-11f0-b861-934242c40bfa\n",
            ",Successfully added company overview note\n",
            ",Processing organization: Christiania Shipping AS\n",
            ",Checking if organization 'Christiania Shipping AS' exists... Christiania Shipping AS\n",
            ",Organization 'Christiania Shipping AS' already exists\n",
            ",Lead 'Christiania Shipping AS' created successfully\n",
            ",Lead ID: 9c392480-3d1a-11f0-b861-934242c40bfa\n",
            ",Successfully added company overview note\n",
            ",Processing organization: Scorpio Tankers Inc.\n",
            ",Checking if organization 'Scorpio Tankers Inc.' exists... Scorpio Tankers Inc.\n",
            ",Organization 'Scorpio Tankers Inc.' already exists\n",
            ",Lead 'Scorpio Tankers Inc.' created successfully\n",
            ",Lead ID: 9de88230-3d1a-11f0-89ba-bd4e5cb40c9f\n",
            ",Successfully added company overview note\n",
            ",Processing organization: Uni-Tankers\n",
            ",Checking if organization 'Uni-Tankers' exists... Uni-Tankers\n",
            ",Organization 'Uni-Tankers' does not exist\n",
            ",Creating organization: Uni-Tankers\n",
            ",Organization 'Uni-Tankers' created successfully\n",
            ",Organization ID: 3848\n",
            ",{'success': True, 'data': {'id': 3848, 'owner_id': {'id': 22966424, 'name': 'Data Team', 'email': 'spdatateam@synergyship.com', 'has_pic': 0, 'pic_hash': None, 'active_flag': True, 'value': 22966424}, 'name': 'Uni-Tankers', 'open_deals_count': 0, 'related_open_deals_count': 0, 'closed_deals_count': 0, 'related_closed_deals_count': 0, 'email_messages_count': 0, 'people_count': 0, 'activities_count': 0, 'done_activities_count': 0, 'undone_activities_count': 0, 'files_count': 0, 'notes_count': 0, 'followers_count': 0, 'won_deals_count': 0, 'related_won_deals_count': 0, 'lost_deals_count': 0, 'related_lost_deals_count': 0, 'active_flag': True, 'picture_id': None, 'country_code': None, 'first_char': 'u', 'update_time': '2025-05-30 05:54:59', 'delete_time': None, 'add_time': '2025-05-30 00:00:00', 'visible_to': '7', 'next_activity_date': None, 'next_activity_time': None, 'next_activity_id': None, 'last_activity_id': None, 'last_activity_date': None, 'label': None, 'label_ids': [], 'address': None, 'address_subpremise': None, 'address_street_number': None, 'address_route': None, 'address_sublocality': None, 'address_locality': None, 'address_admin_area_level_1': None, 'address_admin_area_level_2': None, 'address_country': None, 'address_postal_code': None, 'address_formatted_address': None, 'website': None, 'linkedin': None, 'industry': None, 'annual_revenue': None, 'employee_count': None, 'cc_email': 'synergymarine@pipedrivemail.com', 'b89185905fb638942c714aab7db05a063e1f60c9': None, '05248db73ddbf1b366b6fc9eea1aba7dc29fc30e': None, 'e5d37857c4a715d61a408398c3a440b0d0306081': None, '10889c9ec3fb0ce213a47adfe428060315477dbf': None, '3ed47ac7bf6ce66a8cf7afe0792bd643028e7fd9': None, '341acf9a5d533fab35d2d3411830520ca3654e8b': None, '2e6c964374e3bf90979461f54200bc519872e390': None, '3f1be6ca2669bbdb10918c2daa62480e83ced0dd': None, '38b4d1b6b03bf6194b55a956b26dec3f2eb1432a': None, '921c8e0827c0705508668e278e18b67707cb93b5': None, 'owner_name': 'Data Team', 'edit_name': True, 'company_id': 10270351}, 'additional_data': {'didMerge': False}, 'related_objects': {'user': {'22966424': {'id': 22966424, 'name': 'Data Team', 'email': 'spdatateam@synergyship.com', 'has_pic': 0, 'pic_hash': None, 'active_flag': True}}}}\n",
            ",Lead 'Uni-Tankers' created successfully\n",
            ",Lead ID: 9f522450-3d1a-11f0-8a32-7f362a0f7aec\n",
            ",Successfully added company overview note\n",
            ",Processing organization: Team Tankers International (Eitzen Chemical)\n",
            ",Checking if organization 'Team Tankers International (Eitzen Chemical)' exists... Team Tankers International (Eitzen Chemical)\n",
            ",Organization 'Team Tankers International (Eitzen Chemical)' does not exist\n",
            ",Creating organization: Team Tankers International (Eitzen Chemical)\n",
            ",Organization 'Team Tankers International (Eitzen Chemical)' created successfully\n",
            ",Organization ID: 3849\n",
            ",{'success': True, 'data': {'id': 3849, 'owner_id': {'id': 22966424, 'name': 'Data Team', 'email': 'spdatateam@synergyship.com', 'has_pic': 0, 'pic_hash': None, 'active_flag': True, 'value': 22966424}, 'name': 'Team Tankers International (Eitzen Chemical)', 'open_deals_count': 0, 'related_open_deals_count': 0, 'closed_deals_count': 0, 'related_closed_deals_count': 0, 'email_messages_count': 0, 'people_count': 0, 'activities_count': 0, 'done_activities_count': 0, 'undone_activities_count': 0, 'files_count': 0, 'notes_count': 0, 'followers_count': 0, 'won_deals_count': 0, 'related_won_deals_count': 0, 'lost_deals_count': 0, 'related_lost_deals_count': 0, 'active_flag': True, 'picture_id': None, 'country_code': None, 'first_char': 't', 'update_time': '2025-05-30 05:55:02', 'delete_time': None, 'add_time': '2025-05-30 00:00:00', 'visible_to': '7', 'next_activity_date': None, 'next_activity_time': None, 'next_activity_id': None, 'last_activity_id': None, 'last_activity_date': None, 'label': None, 'label_ids': [], 'address': None, 'address_subpremise': None, 'address_street_number': None, 'address_route': None, 'address_sublocality': None, 'address_locality': None, 'address_admin_area_level_1': None, 'address_admin_area_level_2': None, 'address_country': None, 'address_postal_code': None, 'address_formatted_address': None, 'website': None, 'linkedin': None, 'industry': None, 'annual_revenue': None, 'employee_count': None, 'cc_email': 'synergymarine@pipedrivemail.com', 'b89185905fb638942c714aab7db05a063e1f60c9': None, '05248db73ddbf1b366b6fc9eea1aba7dc29fc30e': None, 'e5d37857c4a715d61a408398c3a440b0d0306081': None, '10889c9ec3fb0ce213a47adfe428060315477dbf': None, '3ed47ac7bf6ce66a8cf7afe0792bd643028e7fd9': None, '341acf9a5d533fab35d2d3411830520ca3654e8b': None, '2e6c964374e3bf90979461f54200bc519872e390': None, '3f1be6ca2669bbdb10918c2daa62480e83ced0dd': None, '38b4d1b6b03bf6194b55a956b26dec3f2eb1432a': None, '921c8e0827c0705508668e278e18b67707cb93b5': None, 'owner_name': 'Data Team', 'edit_name': True, 'company_id': 10270351}, 'additional_data': {'didMerge': False}, 'related_objects': {'user': {'22966424': {'id': 22966424, 'name': 'Data Team', 'email': 'spdatateam@synergyship.com', 'has_pic': 0, 'pic_hash': None, 'active_flag': True}}}}\n",
            ",Lead 'Team Tankers International (Eitzen Chemical)' created successfully\n",
            ",Lead ID: a0e21320-3d1a-11f0-8a32-7f362a0f7aec\n",
            ",Successfully added company overview note\n",
            ",Processing organization: NORDIC Tankers (MOL Chemical Tankers Europe)\n",
            ",Checking if organization 'NORDIC Tankers (MOL Chemical Tankers Europe)' exists... NORDIC Tankers (MOL Chemical Tankers Europe)\n",
            ",Organization 'NORDIC Tankers (MOL Chemical Tankers Europe)' does not exist\n",
            ",Creating organization: NORDIC Tankers (MOL Chemical Tankers Europe)\n",
            ",Organization 'NORDIC Tankers (MOL Chemical Tankers Europe)' created successfully\n",
            ",Organization ID: 3850\n",
            ",{'success': True, 'data': {'id': 3850, 'owner_id': {'id': 22966424, 'name': 'Data Team', 'email': 'spdatateam@synergyship.com', 'has_pic': 0, 'pic_hash': None, 'active_flag': True, 'value': 22966424}, 'name': 'NORDIC Tankers (MOL Chemical Tankers Europe)', 'open_deals_count': 0, 'related_open_deals_count': 0, 'closed_deals_count': 0, 'related_closed_deals_count': 0, 'email_messages_count': 0, 'people_count': 0, 'activities_count': 0, 'done_activities_count': 0, 'undone_activities_count': 0, 'files_count': 0, 'notes_count': 0, 'followers_count': 0, 'won_deals_count': 0, 'related_won_deals_count': 0, 'lost_deals_count': 0, 'related_lost_deals_count': 0, 'active_flag': True, 'picture_id': None, 'country_code': None, 'first_char': 'n', 'update_time': '2025-05-30 05:55:03', 'delete_time': None, 'add_time': '2025-05-30 00:00:00', 'visible_to': '7', 'next_activity_date': None, 'next_activity_time': None, 'next_activity_id': None, 'last_activity_id': None, 'last_activity_date': None, 'label': None, 'label_ids': [], 'address': None, 'address_subpremise': None, 'address_street_number': None, 'address_route': None, 'address_sublocality': None, 'address_locality': None, 'address_admin_area_level_1': None, 'address_admin_area_level_2': None, 'address_country': None, 'address_postal_code': None, 'address_formatted_address': None, 'website': None, 'linkedin': None, 'industry': None, 'annual_revenue': None, 'employee_count': None, 'cc_email': 'synergymarine@pipedrivemail.com', 'b89185905fb638942c714aab7db05a063e1f60c9': None, '05248db73ddbf1b366b6fc9eea1aba7dc29fc30e': None, 'e5d37857c4a715d61a408398c3a440b0d0306081': None, '10889c9ec3fb0ce213a47adfe428060315477dbf': None, '3ed47ac7bf6ce66a8cf7afe0792bd643028e7fd9': None, '341acf9a5d533fab35d2d3411830520ca3654e8b': None, '2e6c964374e3bf90979461f54200bc519872e390': None, '3f1be6ca2669bbdb10918c2daa62480e83ced0dd': None, '38b4d1b6b03bf6194b55a956b26dec3f2eb1432a': None, '921c8e0827c0705508668e278e18b67707cb93b5': None, 'owner_name': 'Data Team', 'edit_name': True, 'company_id': 10270351}, 'additional_data': {'didMerge': False}, 'related_objects': {'user': {'22966424': {'id': 22966424, 'name': 'Data Team', 'email': 'spdatateam@synergyship.com', 'has_pic': 0, 'pic_hash': None, 'active_flag': True}}}}\n",
            ",Lead 'NORDIC Tankers (MOL Chemical Tankers Europe)' created successfully\n",
            ",Lead ID: a1eb93e0-3d1a-11f0-8085-b3a2a921474b\n",
            ",Successfully added company overview note\n",
            ",Processing organization: Wagenborg Shipping\n",
            ",Checking if organization 'Wagenborg Shipping' exists... Wagenborg Shipping\n",
            ",Organization 'Wagenborg Shipping' does not exist\n",
            ",Creating organization: Wagenborg Shipping\n",
            ",Organization 'Wagenborg Shipping' created successfully\n",
            ",Organization ID: 3851\n",
            ",{'success': True, 'data': {'id': 3851, 'owner_id': {'id': 22966424, 'name': 'Data Team', 'email': 'spdatateam@synergyship.com', 'has_pic': 0, 'pic_hash': None, 'active_flag': True, 'value': 22966424}, 'name': 'Wagenborg Shipping', 'open_deals_count': 0, 'related_open_deals_count': 0, 'closed_deals_count': 0, 'related_closed_deals_count': 0, 'email_messages_count': 0, 'people_count': 0, 'activities_count': 0, 'done_activities_count': 0, 'undone_activities_count': 0, 'files_count': 0, 'notes_count': 0, 'followers_count': 0, 'won_deals_count': 0, 'related_won_deals_count': 0, 'lost_deals_count': 0, 'related_lost_deals_count': 0, 'active_flag': True, 'picture_id': None, 'country_code': None, 'first_char': 'w', 'update_time': '2025-05-30 05:55:06', 'delete_time': None, 'add_time': '2025-05-30 00:00:00', 'visible_to': '7', 'next_activity_date': None, 'next_activity_time': None, 'next_activity_id': None, 'last_activity_id': None, 'last_activity_date': None, 'label': None, 'label_ids': [], 'address': None, 'address_subpremise': None, 'address_street_number': None, 'address_route': None, 'address_sublocality': None, 'address_locality': None, 'address_admin_area_level_1': None, 'address_admin_area_level_2': None, 'address_country': None, 'address_postal_code': None, 'address_formatted_address': None, 'website': None, 'linkedin': None, 'industry': None, 'annual_revenue': None, 'employee_count': None, 'cc_email': 'synergymarine@pipedrivemail.com', 'b89185905fb638942c714aab7db05a063e1f60c9': None, '05248db73ddbf1b366b6fc9eea1aba7dc29fc30e': None, 'e5d37857c4a715d61a408398c3a440b0d0306081': None, '10889c9ec3fb0ce213a47adfe428060315477dbf': None, '3ed47ac7bf6ce66a8cf7afe0792bd643028e7fd9': None, '341acf9a5d533fab35d2d3411830520ca3654e8b': None, '2e6c964374e3bf90979461f54200bc519872e390': None, '3f1be6ca2669bbdb10918c2daa62480e83ced0dd': None, '38b4d1b6b03bf6194b55a956b26dec3f2eb1432a': None, '921c8e0827c0705508668e278e18b67707cb93b5': None, 'owner_name': 'Data Team', 'edit_name': True, 'company_id': 10270351}, 'additional_data': {'didMerge': False}, 'related_objects': {'user': {'22966424': {'id': 22966424, 'name': 'Data Team', 'email': 'spdatateam@synergyship.com', 'has_pic': 0, 'pic_hash': None, 'active_flag': True}}}}\n",
            ",Lead 'Wagenborg Shipping' created successfully\n",
            ",Lead ID: a359f0f0-3d1a-11f0-89ba-bd4e5cb40c9f\n",
            ",Successfully added company overview note\n",
            ",Processing organization: DFDS\n",
            ",Checking if organization 'DFDS' exists... DFDS\n",
            ",Organization 'DFDS' already exists\n",
            ",Lead 'DFDS' created successfully\n",
            ",Lead ID: a42493f0-3d1a-11f0-8a32-7f362a0f7aec\n",
            ",Successfully added company overview note\n",
            ",Processing organization: Navion (Equinor Shuttle/Teekay legacy)\n",
            ",Checking if organization 'Navion (Equinor Shuttle/Teekay legacy)' exists... Navion (Equinor Shuttle/Teekay legacy)\n",
            ",Organization 'Navion (Equinor Shuttle/Teekay legacy)' does not exist\n",
            ",Creating organization: Navion (Equinor Shuttle/Teekay legacy)\n",
            ",Organization 'Navion (Equinor Shuttle/Teekay legacy)' created successfully\n",
            ",Organization ID: 3852\n",
            ",{'success': True, 'data': {'id': 3852, 'owner_id': {'id': 22966424, 'name': 'Data Team', 'email': 'spdatateam@synergyship.com', 'has_pic': 0, 'pic_hash': None, 'active_flag': True, 'value': 22966424}, 'name': 'Navion (Equinor Shuttle/Teekay legacy)', 'open_deals_count': 0, 'related_open_deals_count': 0, 'closed_deals_count': 0, 'related_closed_deals_count': 0, 'email_messages_count': 0, 'people_count': 0, 'activities_count': 0, 'done_activities_count': 0, 'undone_activities_count': 0, 'files_count': 0, 'notes_count': 0, 'followers_count': 0, 'won_deals_count': 0, 'related_won_deals_count': 0, 'lost_deals_count': 0, 'related_lost_deals_count': 0, 'active_flag': True, 'picture_id': None, 'country_code': None, 'first_char': 'n', 'update_time': '2025-05-30 05:55:10', 'delete_time': None, 'add_time': '2025-05-30 00:00:00', 'visible_to': '7', 'next_activity_date': None, 'next_activity_time': None, 'next_activity_id': None, 'last_activity_id': None, 'last_activity_date': None, 'label': None, 'label_ids': [], 'address': None, 'address_subpremise': None, 'address_street_number': None, 'address_route': None, 'address_sublocality': None, 'address_locality': None, 'address_admin_area_level_1': None, 'address_admin_area_level_2': None, 'address_country': None, 'address_postal_code': None, 'address_formatted_address': None, 'website': None, 'linkedin': None, 'industry': None, 'annual_revenue': None, 'employee_count': None, 'cc_email': 'synergymarine@pipedrivemail.com', 'b89185905fb638942c714aab7db05a063e1f60c9': None, '05248db73ddbf1b366b6fc9eea1aba7dc29fc30e': None, 'e5d37857c4a715d61a408398c3a440b0d0306081': None, '10889c9ec3fb0ce213a47adfe428060315477dbf': None, '3ed47ac7bf6ce66a8cf7afe0792bd643028e7fd9': None, '341acf9a5d533fab35d2d3411830520ca3654e8b': None, '2e6c964374e3bf90979461f54200bc519872e390': None, '3f1be6ca2669bbdb10918c2daa62480e83ced0dd': None, '38b4d1b6b03bf6194b55a956b26dec3f2eb1432a': None, '921c8e0827c0705508668e278e18b67707cb93b5': None, 'owner_name': 'Data Team', 'edit_name': True, 'company_id': 10270351}, 'additional_data': {'didMerge': False}, 'related_objects': {'user': {'22966424': {'id': 22966424, 'name': 'Data Team', 'email': 'spdatateam@synergyship.com', 'has_pic': 0, 'pic_hash': None, 'active_flag': True}}}}\n",
            ",Lead 'Navion (Equinor Shuttle/Teekay legacy)' created successfully\n",
            ",Lead ID: a5ab8210-3d1a-11f0-b861-934242c40bfa\n",
            ",Successfully added company overview note\n",
            ",Processing organization: Spliethoff Group / Wijnne Barends\n",
            ",Checking if organization 'Spliethoff Group / Wijnne Barends' exists... Spliethoff Group / Wijnne Barends\n",
            ",Organization 'Spliethoff Group / Wijnne Barends' does not exist\n",
            ",Creating organization: Spliethoff Group / Wijnne Barends\n",
            ",Organization 'Spliethoff Group / Wijnne Barends' created successfully\n",
            ",Organization ID: 3853\n",
            ",{'success': True, 'data': {'id': 3853, 'owner_id': {'id': 22966424, 'name': 'Data Team', 'email': 'spdatateam@synergyship.com', 'has_pic': 0, 'pic_hash': None, 'active_flag': True, 'value': 22966424}, 'name': 'Spliethoff Group / Wijnne Barends', 'open_deals_count': 0, 'related_open_deals_count': 0, 'closed_deals_count': 0, 'related_closed_deals_count': 0, 'email_messages_count': 0, 'people_count': 0, 'activities_count': 0, 'done_activities_count': 0, 'undone_activities_count': 0, 'files_count': 0, 'notes_count': 0, 'followers_count': 0, 'won_deals_count': 0, 'related_won_deals_count': 0, 'lost_deals_count': 0, 'related_lost_deals_count': 0, 'active_flag': True, 'picture_id': None, 'country_code': None, 'first_char': 's', 'update_time': '2025-05-30 05:55:11', 'delete_time': None, 'add_time': '2025-05-30 00:00:00', 'visible_to': '7', 'next_activity_date': None, 'next_activity_time': None, 'next_activity_id': None, 'last_activity_id': None, 'last_activity_date': None, 'label': None, 'label_ids': [], 'address': None, 'address_subpremise': None, 'address_street_number': None, 'address_route': None, 'address_sublocality': None, 'address_locality': None, 'address_admin_area_level_1': None, 'address_admin_area_level_2': None, 'address_country': None, 'address_postal_code': None, 'address_formatted_address': None, 'website': None, 'linkedin': None, 'industry': None, 'annual_revenue': None, 'employee_count': None, 'cc_email': 'synergymarine@pipedrivemail.com', 'b89185905fb638942c714aab7db05a063e1f60c9': None, '05248db73ddbf1b366b6fc9eea1aba7dc29fc30e': None, 'e5d37857c4a715d61a408398c3a440b0d0306081': None, '10889c9ec3fb0ce213a47adfe428060315477dbf': None, '3ed47ac7bf6ce66a8cf7afe0792bd643028e7fd9': None, '341acf9a5d533fab35d2d3411830520ca3654e8b': None, '2e6c964374e3bf90979461f54200bc519872e390': None, '3f1be6ca2669bbdb10918c2daa62480e83ced0dd': None, '38b4d1b6b03bf6194b55a956b26dec3f2eb1432a': None, '921c8e0827c0705508668e278e18b67707cb93b5': None, 'owner_name': 'Data Team', 'edit_name': True, 'company_id': 10270351}, 'additional_data': {'didMerge': False}, 'related_objects': {'user': {'22966424': {'id': 22966424, 'name': 'Data Team', 'email': 'spdatateam@synergyship.com', 'has_pic': 0, 'pic_hash': None, 'active_flag': True}}}}\n",
            ",Lead 'Spliethoff Group / Wijnne Barends' created successfully\n",
            ",Lead ID: a6998b90-3d1a-11f0-8085-b3a2a921474b\n",
            ",Successfully added company overview note\n",
            ",Processing organization: Torm A/S\n",
            ",Checking if organization 'Torm A/S' exists... Torm A/S\n",
            ",Organization 'Torm A/S' already exists\n",
            ",Lead 'Torm A/S' created successfully\n",
            ",Lead ID: a74fe340-3d1a-11f0-8085-b3a2a921474b\n",
            ",Successfully added company overview note\n"
          ]
        }
      ],
      "source": [
        "\n",
        "for lead in leads:\n",
        "    organization = lead['name']\n",
        "    print(f\"Processing organization: {organization}\")\n",
        "    \n",
        "    # Check if organization exists\n",
        "    org_id = organization_exists(organization)\n",
        "    \n",
        "    # If organization does not exist, create it\n",
        "    if org_id is None:\n",
        "        print(f\"Creating organization: {organization}\")\n",
        "        org_id = create_organization(lead)\n",
        "        if org_id is None:\n",
        "            print(f\"Failed to create organization {organization}\")\n",
        "            continue\n",
        "    \n",
        "    # Prepare lead data\n",
        "    leads_data = {\n",
        "        'title': lead['name'],\n",
        "        'owner_id': owner_id,\n",
        "        'organization_id': org_id,\n",
        "    }\n",
        "\n",
        "    # Create lead\n",
        "    response = requests.post(\n",
        "        'https://api.pipedrive.com/v1/leads',\n",
        "        json=leads_data,\n",
        "        params={'api_token': PIPEDRIVE_API_TOKEN}\n",
        "    )\n",
        "    \n",
        "    if response.status_code == 201:\n",
        "        print(f\"Lead '{lead['name']}' created successfully\")\n",
        "        lead_id = response.json()['data']['id']\n",
        "        print(f\"Lead ID: {lead_id}\")\n",
        "        \n",
        "        # Create note\n",
        "        note_data = {\n",
        "            'content': create_note_content(lead),\n",
        "            'lead_id': lead_id,\n",
        "            'add_time': formatted_time\n",
        "        }\n",
        "        \n",
        "        response = requests.post(\n",
        "            'https://api.pipedrive.com/v1/notes',\n",
        "            json=note_data,\n",
        "            params={'api_token': PIPEDRIVE_API_TOKEN}\n",
        "        )\n",
        "        \n",
        "        if response.status_code == 201:\n",
        "            print(\"Successfully added company overview note\")\n",
        "        else:\n",
        "            print(f\"Error adding note: {response.status_code}\")\n",
        "            print(response.text)\n",
        "    else:\n",
        "        print(f\"Error creating lead: {response.status_code}\")\n",
        "        print(response.text)"
      ]
    }
  ],
  "metadata": {
    "kernelspec": {
      "display_name": "Python 3",
      "language": "python",
      "name": "python3"
    },
    "language_info": {
      "codemirror_mode": {
        "name": "ipython",
        "version": 3
      },
      "file_extension": ".py",
      "mimetype": "text/x-python",
      "name": "python",
      "nbconvert_exporter": "python",
      "pygments_lexer": "ipython3",
      "version": "3.11.9"
    }
  },
  "nbformat": 4,
  "nbformat_minor": 5
}
